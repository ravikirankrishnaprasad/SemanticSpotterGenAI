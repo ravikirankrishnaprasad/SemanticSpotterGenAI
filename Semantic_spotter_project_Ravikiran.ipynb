{
 "cells": [
  {
   "cell_type": "markdown",
   "metadata": {},
   "source": [
    "#### Problem Statement: \n",
    "Building a RAG-based Generative Search System for Insurance Policy Documents\n",
    "The insurance industry generates vast amounts of policy documents containing complex and extensive details. Customers and agents often struggle to retrieve specific information efficiently, leading to delays in decision-making and increased dependency on manual customer support.\n",
    "\n",
    "The goal of this project is to develop a Retrieval-Augmented Generation (RAG) system that enables users to ask natural language queries and receive accurate, context-aware responses derived from insurance policy documents. By leveraging LLMs (Large Language Models) with advanced retrieval mechanisms, the system will improve the efficiency of document search, reduce customer service overhead, and enhance user experience.\n",
    "\n",
    "This project will utilize LangChain or LlamaIndex to integrate retrieval-based search with generative AI capabilities. It will process and index various insurance policies, allowing users to extract precise answers instead of scanning lengthy documents manually."
   ]
  },
  {
   "cell_type": "code",
   "execution_count": null,
   "metadata": {
    "colab": {
     "base_uri": "https://localhost:8080/"
    },
    "id": "2sYc37YiXKo-",
    "outputId": "09f2482f-5701-499a-a82d-8166988a7e82"
   },
   "outputs": [
    {
     "name": "stdout",
     "output_type": "stream",
     "text": [
      "Collecting llama-index\n",
      "  Downloading llama_index-0.11.11-py3-none-any.whl.metadata (11 kB)\n",
      "Collecting llama-index-agent-openai<0.4.0,>=0.3.4 (from llama-index)\n",
      "  Downloading llama_index_agent_openai-0.3.4-py3-none-any.whl.metadata (728 bytes)\n",
      "Collecting llama-index-cli<0.4.0,>=0.3.1 (from llama-index)\n",
      "  Downloading llama_index_cli-0.3.1-py3-none-any.whl.metadata (1.5 kB)\n",
      "Collecting llama-index-core<0.12.0,>=0.11.10 (from llama-index)\n",
      "  Downloading llama_index_core-0.11.11-py3-none-any.whl.metadata (2.4 kB)\n",
      "Collecting llama-index-embeddings-openai<0.3.0,>=0.2.4 (from llama-index)\n",
      "  Downloading llama_index_embeddings_openai-0.2.5-py3-none-any.whl.metadata (686 bytes)\n",
      "Collecting llama-index-indices-managed-llama-cloud>=0.3.0 (from llama-index)\n",
      "  Downloading llama_index_indices_managed_llama_cloud-0.3.1-py3-none-any.whl.metadata (3.8 kB)\n",
      "Collecting llama-index-legacy<0.10.0,>=0.9.48 (from llama-index)\n",
      "  Downloading llama_index_legacy-0.9.48.post3-py3-none-any.whl.metadata (8.5 kB)\n",
      "Collecting llama-index-llms-openai<0.3.0,>=0.2.9 (from llama-index)\n",
      "  Downloading llama_index_llms_openai-0.2.9-py3-none-any.whl.metadata (648 bytes)\n",
      "Collecting llama-index-multi-modal-llms-openai<0.3.0,>=0.2.0 (from llama-index)\n",
      "  Downloading llama_index_multi_modal_llms_openai-0.2.1-py3-none-any.whl.metadata (728 bytes)\n",
      "Collecting llama-index-program-openai<0.3.0,>=0.2.0 (from llama-index)\n",
      "  Downloading llama_index_program_openai-0.2.0-py3-none-any.whl.metadata (766 bytes)\n",
      "Collecting llama-index-question-gen-openai<0.3.0,>=0.2.0 (from llama-index)\n",
      "  Downloading llama_index_question_gen_openai-0.2.0-py3-none-any.whl.metadata (785 bytes)\n",
      "Collecting llama-index-readers-file<0.3.0,>=0.2.0 (from llama-index)\n",
      "  Downloading llama_index_readers_file-0.2.2-py3-none-any.whl.metadata (5.4 kB)\n",
      "Collecting llama-index-readers-llama-parse>=0.3.0 (from llama-index)\n",
      "  Downloading llama_index_readers_llama_parse-0.3.0-py3-none-any.whl.metadata (3.5 kB)\n",
      "Collecting nltk>3.8.1 (from llama-index)\n",
      "  Downloading nltk-3.9.1-py3-none-any.whl.metadata (2.9 kB)\n",
      "Collecting openai>=1.14.0 (from llama-index-agent-openai<0.4.0,>=0.3.4->llama-index)\n",
      "  Downloading openai-1.47.0-py3-none-any.whl.metadata (24 kB)\n",
      "Requirement already satisfied: PyYAML>=6.0.1 in /usr/local/lib/python3.10/dist-packages (from llama-index-core<0.12.0,>=0.11.10->llama-index) (6.0.2)\n",
      "Requirement already satisfied: SQLAlchemy>=1.4.49 in /usr/local/lib/python3.10/dist-packages (from SQLAlchemy[asyncio]>=1.4.49->llama-index-core<0.12.0,>=0.11.10->llama-index) (2.0.35)\n",
      "Requirement already satisfied: aiohttp<4.0.0,>=3.8.6 in /usr/local/lib/python3.10/dist-packages (from llama-index-core<0.12.0,>=0.11.10->llama-index) (3.10.5)\n",
      "Collecting dataclasses-json (from llama-index-core<0.12.0,>=0.11.10->llama-index)\n",
      "  Downloading dataclasses_json-0.6.7-py3-none-any.whl.metadata (25 kB)\n",
      "Collecting deprecated>=1.2.9.3 (from llama-index-core<0.12.0,>=0.11.10->llama-index)\n",
      "  Downloading Deprecated-1.2.14-py2.py3-none-any.whl.metadata (5.4 kB)\n",
      "Collecting dirtyjson<2.0.0,>=1.0.8 (from llama-index-core<0.12.0,>=0.11.10->llama-index)\n",
      "  Downloading dirtyjson-1.0.8-py3-none-any.whl.metadata (11 kB)\n",
      "Requirement already satisfied: fsspec>=2023.5.0 in /usr/local/lib/python3.10/dist-packages (from llama-index-core<0.12.0,>=0.11.10->llama-index) (2024.6.1)\n",
      "Collecting httpx (from llama-index-core<0.12.0,>=0.11.10->llama-index)\n",
      "  Downloading httpx-0.27.2-py3-none-any.whl.metadata (7.1 kB)\n",
      "Requirement already satisfied: nest-asyncio<2.0.0,>=1.5.8 in /usr/local/lib/python3.10/dist-packages (from llama-index-core<0.12.0,>=0.11.10->llama-index) (1.6.0)\n",
      "Requirement already satisfied: networkx>=3.0 in /usr/local/lib/python3.10/dist-packages (from llama-index-core<0.12.0,>=0.11.10->llama-index) (3.3)\n",
      "Requirement already satisfied: numpy<2.0.0 in /usr/local/lib/python3.10/dist-packages (from llama-index-core<0.12.0,>=0.11.10->llama-index) (1.26.4)\n",
      "Requirement already satisfied: pillow>=9.0.0 in /usr/local/lib/python3.10/dist-packages (from llama-index-core<0.12.0,>=0.11.10->llama-index) (10.4.0)\n",
      "Requirement already satisfied: pydantic<3.0.0,>=2.7.0 in /usr/local/lib/python3.10/dist-packages (from llama-index-core<0.12.0,>=0.11.10->llama-index) (2.9.2)\n",
      "Requirement already satisfied: requests>=2.31.0 in /usr/local/lib/python3.10/dist-packages (from llama-index-core<0.12.0,>=0.11.10->llama-index) (2.32.3)\n",
      "Collecting tenacity!=8.4.0,<9.0.0,>=8.2.0 (from llama-index-core<0.12.0,>=0.11.10->llama-index)\n",
      "  Downloading tenacity-8.5.0-py3-none-any.whl.metadata (1.2 kB)\n",
      "Collecting tiktoken>=0.3.3 (from llama-index-core<0.12.0,>=0.11.10->llama-index)\n",
      "  Downloading tiktoken-0.7.0-cp310-cp310-manylinux_2_17_x86_64.manylinux2014_x86_64.whl.metadata (6.6 kB)\n",
      "Requirement already satisfied: tqdm<5.0.0,>=4.66.1 in /usr/local/lib/python3.10/dist-packages (from llama-index-core<0.12.0,>=0.11.10->llama-index) (4.66.5)\n",
      "Requirement already satisfied: typing-extensions>=4.5.0 in /usr/local/lib/python3.10/dist-packages (from llama-index-core<0.12.0,>=0.11.10->llama-index) (4.12.2)\n",
      "Collecting typing-inspect>=0.8.0 (from llama-index-core<0.12.0,>=0.11.10->llama-index)\n",
      "  Downloading typing_inspect-0.9.0-py3-none-any.whl.metadata (1.5 kB)\n",
      "Requirement already satisfied: wrapt in /usr/local/lib/python3.10/dist-packages (from llama-index-core<0.12.0,>=0.11.10->llama-index) (1.16.0)\n",
      "Collecting llama-cloud>=0.0.11 (from llama-index-indices-managed-llama-cloud>=0.3.0->llama-index)\n",
      "  Downloading llama_cloud-0.0.17-py3-none-any.whl.metadata (751 bytes)\n",
      "Requirement already satisfied: pandas in /usr/local/lib/python3.10/dist-packages (from llama-index-legacy<0.10.0,>=0.9.48->llama-index) (2.1.4)\n",
      "Requirement already satisfied: beautifulsoup4<5.0.0,>=4.12.3 in /usr/local/lib/python3.10/dist-packages (from llama-index-readers-file<0.3.0,>=0.2.0->llama-index) (4.12.3)\n",
      "Collecting pypdf<5.0.0,>=4.0.1 (from llama-index-readers-file<0.3.0,>=0.2.0->llama-index)\n",
      "  Downloading pypdf-4.3.1-py3-none-any.whl.metadata (7.4 kB)\n",
      "Collecting striprtf<0.0.27,>=0.0.26 (from llama-index-readers-file<0.3.0,>=0.2.0->llama-index)\n",
      "  Downloading striprtf-0.0.26-py3-none-any.whl.metadata (2.1 kB)\n",
      "Collecting llama-parse>=0.5.0 (from llama-index-readers-llama-parse>=0.3.0->llama-index)\n",
      "  Downloading llama_parse-0.5.6-py3-none-any.whl.metadata (6.1 kB)\n",
      "Requirement already satisfied: click in /usr/local/lib/python3.10/dist-packages (from nltk>3.8.1->llama-index) (8.1.7)\n",
      "Requirement already satisfied: joblib in /usr/local/lib/python3.10/dist-packages (from nltk>3.8.1->llama-index) (1.4.2)\n",
      "Requirement already satisfied: regex>=2021.8.3 in /usr/local/lib/python3.10/dist-packages (from nltk>3.8.1->llama-index) (2024.9.11)\n",
      "Requirement already satisfied: aiohappyeyeballs>=2.3.0 in /usr/local/lib/python3.10/dist-packages (from aiohttp<4.0.0,>=3.8.6->llama-index-core<0.12.0,>=0.11.10->llama-index) (2.4.0)\n",
      "Requirement already satisfied: aiosignal>=1.1.2 in /usr/local/lib/python3.10/dist-packages (from aiohttp<4.0.0,>=3.8.6->llama-index-core<0.12.0,>=0.11.10->llama-index) (1.3.1)\n",
      "Requirement already satisfied: attrs>=17.3.0 in /usr/local/lib/python3.10/dist-packages (from aiohttp<4.0.0,>=3.8.6->llama-index-core<0.12.0,>=0.11.10->llama-index) (24.2.0)\n",
      "Requirement already satisfied: frozenlist>=1.1.1 in /usr/local/lib/python3.10/dist-packages (from aiohttp<4.0.0,>=3.8.6->llama-index-core<0.12.0,>=0.11.10->llama-index) (1.4.1)\n",
      "Requirement already satisfied: multidict<7.0,>=4.5 in /usr/local/lib/python3.10/dist-packages (from aiohttp<4.0.0,>=3.8.6->llama-index-core<0.12.0,>=0.11.10->llama-index) (6.1.0)\n",
      "Requirement already satisfied: yarl<2.0,>=1.0 in /usr/local/lib/python3.10/dist-packages (from aiohttp<4.0.0,>=3.8.6->llama-index-core<0.12.0,>=0.11.10->llama-index) (1.11.1)\n",
      "Requirement already satisfied: async-timeout<5.0,>=4.0 in /usr/local/lib/python3.10/dist-packages (from aiohttp<4.0.0,>=3.8.6->llama-index-core<0.12.0,>=0.11.10->llama-index) (4.0.3)\n",
      "Requirement already satisfied: soupsieve>1.2 in /usr/local/lib/python3.10/dist-packages (from beautifulsoup4<5.0.0,>=4.12.3->llama-index-readers-file<0.3.0,>=0.2.0->llama-index) (2.6)\n",
      "Requirement already satisfied: anyio in /usr/local/lib/python3.10/dist-packages (from httpx->llama-index-core<0.12.0,>=0.11.10->llama-index) (3.7.1)\n",
      "Requirement already satisfied: certifi in /usr/local/lib/python3.10/dist-packages (from httpx->llama-index-core<0.12.0,>=0.11.10->llama-index) (2024.8.30)\n",
      "Collecting httpcore==1.* (from httpx->llama-index-core<0.12.0,>=0.11.10->llama-index)\n",
      "  Downloading httpcore-1.0.5-py3-none-any.whl.metadata (20 kB)\n",
      "Requirement already satisfied: idna in /usr/local/lib/python3.10/dist-packages (from httpx->llama-index-core<0.12.0,>=0.11.10->llama-index) (3.10)\n",
      "Requirement already satisfied: sniffio in /usr/local/lib/python3.10/dist-packages (from httpx->llama-index-core<0.12.0,>=0.11.10->llama-index) (1.3.1)\n",
      "Collecting h11<0.15,>=0.13 (from httpcore==1.*->httpx->llama-index-core<0.12.0,>=0.11.10->llama-index)\n",
      "  Downloading h11-0.14.0-py3-none-any.whl.metadata (8.2 kB)\n",
      "Requirement already satisfied: distro<2,>=1.7.0 in /usr/lib/python3/dist-packages (from openai>=1.14.0->llama-index-agent-openai<0.4.0,>=0.3.4->llama-index) (1.7.0)\n",
      "Collecting jiter<1,>=0.4.0 (from openai>=1.14.0->llama-index-agent-openai<0.4.0,>=0.3.4->llama-index)\n",
      "  Downloading jiter-0.5.0-cp310-cp310-manylinux_2_17_x86_64.manylinux2014_x86_64.whl.metadata (3.6 kB)\n",
      "Requirement already satisfied: annotated-types>=0.6.0 in /usr/local/lib/python3.10/dist-packages (from pydantic<3.0.0,>=2.7.0->llama-index-core<0.12.0,>=0.11.10->llama-index) (0.7.0)\n",
      "Requirement already satisfied: pydantic-core==2.23.4 in /usr/local/lib/python3.10/dist-packages (from pydantic<3.0.0,>=2.7.0->llama-index-core<0.12.0,>=0.11.10->llama-index) (2.23.4)\n",
      "Requirement already satisfied: charset-normalizer<4,>=2 in /usr/local/lib/python3.10/dist-packages (from requests>=2.31.0->llama-index-core<0.12.0,>=0.11.10->llama-index) (3.3.2)\n",
      "Requirement already satisfied: urllib3<3,>=1.21.1 in /usr/local/lib/python3.10/dist-packages (from requests>=2.31.0->llama-index-core<0.12.0,>=0.11.10->llama-index) (2.0.7)\n",
      "Requirement already satisfied: greenlet!=0.4.17 in /usr/local/lib/python3.10/dist-packages (from SQLAlchemy>=1.4.49->SQLAlchemy[asyncio]>=1.4.49->llama-index-core<0.12.0,>=0.11.10->llama-index) (3.1.0)\n",
      "Collecting mypy-extensions>=0.3.0 (from typing-inspect>=0.8.0->llama-index-core<0.12.0,>=0.11.10->llama-index)\n",
      "  Downloading mypy_extensions-1.0.0-py3-none-any.whl.metadata (1.1 kB)\n",
      "Collecting marshmallow<4.0.0,>=3.18.0 (from dataclasses-json->llama-index-core<0.12.0,>=0.11.10->llama-index)\n",
      "  Downloading marshmallow-3.22.0-py3-none-any.whl.metadata (7.2 kB)\n",
      "Requirement already satisfied: python-dateutil>=2.8.2 in /usr/local/lib/python3.10/dist-packages (from pandas->llama-index-legacy<0.10.0,>=0.9.48->llama-index) (2.8.2)\n",
      "Requirement already satisfied: pytz>=2020.1 in /usr/local/lib/python3.10/dist-packages (from pandas->llama-index-legacy<0.10.0,>=0.9.48->llama-index) (2024.2)\n",
      "Requirement already satisfied: tzdata>=2022.1 in /usr/local/lib/python3.10/dist-packages (from pandas->llama-index-legacy<0.10.0,>=0.9.48->llama-index) (2024.1)\n",
      "Requirement already satisfied: exceptiongroup in /usr/local/lib/python3.10/dist-packages (from anyio->httpx->llama-index-core<0.12.0,>=0.11.10->llama-index) (1.2.2)\n",
      "Requirement already satisfied: packaging>=17.0 in /usr/local/lib/python3.10/dist-packages (from marshmallow<4.0.0,>=3.18.0->dataclasses-json->llama-index-core<0.12.0,>=0.11.10->llama-index) (24.1)\n",
      "Requirement already satisfied: six>=1.5 in /usr/local/lib/python3.10/dist-packages (from python-dateutil>=2.8.2->pandas->llama-index-legacy<0.10.0,>=0.9.48->llama-index) (1.16.0)\n",
      "Downloading llama_index-0.11.11-py3-none-any.whl (6.8 kB)\n",
      "Downloading llama_index_agent_openai-0.3.4-py3-none-any.whl (13 kB)\n",
      "Downloading llama_index_cli-0.3.1-py3-none-any.whl (27 kB)\n",
      "Downloading llama_index_core-0.11.11-py3-none-any.whl (1.6 MB)\n",
      "\u001b[2K   \u001b[90m━━━━━━━━━━━━━━━━━━━━━━━━━━━━━━━━━━━━━━━━\u001b[0m \u001b[32m1.6/1.6 MB\u001b[0m \u001b[31m19.7 MB/s\u001b[0m eta \u001b[36m0:00:00\u001b[0m\n",
      "\u001b[?25hDownloading llama_index_embeddings_openai-0.2.5-py3-none-any.whl (6.1 kB)\n",
      "Downloading llama_index_indices_managed_llama_cloud-0.3.1-py3-none-any.whl (10 kB)\n",
      "Downloading llama_index_legacy-0.9.48.post3-py3-none-any.whl (1.2 MB)\n",
      "\u001b[2K   \u001b[90m━━━━━━━━━━━━━━━━━━━━━━━━━━━━━━━━━━━━━━━━\u001b[0m \u001b[32m1.2/1.2 MB\u001b[0m \u001b[31m33.3 MB/s\u001b[0m eta \u001b[36m0:00:00\u001b[0m\n",
      "\u001b[?25hDownloading llama_index_llms_openai-0.2.9-py3-none-any.whl (12 kB)\n",
      "Downloading llama_index_multi_modal_llms_openai-0.2.1-py3-none-any.whl (5.9 kB)\n",
      "Downloading llama_index_program_openai-0.2.0-py3-none-any.whl (5.3 kB)\n",
      "Downloading llama_index_question_gen_openai-0.2.0-py3-none-any.whl (2.9 kB)\n",
      "Downloading llama_index_readers_file-0.2.2-py3-none-any.whl (38 kB)\n",
      "Downloading llama_index_readers_llama_parse-0.3.0-py3-none-any.whl (2.5 kB)\n",
      "Downloading nltk-3.9.1-py3-none-any.whl (1.5 MB)\n",
      "\u001b[2K   \u001b[90m━━━━━━━━━━━━━━━━━━━━━━━━━━━━━━━━━━━━━━━━\u001b[0m \u001b[32m1.5/1.5 MB\u001b[0m \u001b[31m32.9 MB/s\u001b[0m eta \u001b[36m0:00:00\u001b[0m\n",
      "\u001b[?25hDownloading Deprecated-1.2.14-py2.py3-none-any.whl (9.6 kB)\n",
      "Downloading dirtyjson-1.0.8-py3-none-any.whl (25 kB)\n",
      "Downloading llama_cloud-0.0.17-py3-none-any.whl (187 kB)\n",
      "\u001b[2K   \u001b[90m━━━━━━━━━━━━━━━━━━━━━━━━━━━━━━━━━━━━━━━━\u001b[0m \u001b[32m187.4/187.4 kB\u001b[0m \u001b[31m10.4 MB/s\u001b[0m eta \u001b[36m0:00:00\u001b[0m\n",
      "\u001b[?25hDownloading httpx-0.27.2-py3-none-any.whl (76 kB)\n",
      "\u001b[2K   \u001b[90m━━━━━━━━━━━━━━━━━━━━━━━━━━━━━━━━━━━━━━━━\u001b[0m \u001b[32m76.4/76.4 kB\u001b[0m \u001b[31m3.8 MB/s\u001b[0m eta \u001b[36m0:00:00\u001b[0m\n",
      "\u001b[?25hDownloading httpcore-1.0.5-py3-none-any.whl (77 kB)\n",
      "\u001b[2K   \u001b[90m━━━━━━━━━━━━━━━━━━━━━━━━━━━━━━━━━━━━━━━━\u001b[0m \u001b[32m77.9/77.9 kB\u001b[0m \u001b[31m4.5 MB/s\u001b[0m eta \u001b[36m0:00:00\u001b[0m\n",
      "\u001b[?25hDownloading llama_parse-0.5.6-py3-none-any.whl (10 kB)\n",
      "Downloading openai-1.47.0-py3-none-any.whl (375 kB)\n",
      "\u001b[2K   \u001b[90m━━━━━━━━━━━━━━━━━━━━━━━━━━━━━━━━━━━━━━━━\u001b[0m \u001b[32m375.6/375.6 kB\u001b[0m \u001b[31m18.4 MB/s\u001b[0m eta \u001b[36m0:00:00\u001b[0m\n",
      "\u001b[?25hDownloading pypdf-4.3.1-py3-none-any.whl (295 kB)\n",
      "\u001b[2K   \u001b[90m━━━━━━━━━━━━━━━━━━━━━━━━━━━━━━━━━━━━━━━━\u001b[0m \u001b[32m295.8/295.8 kB\u001b[0m \u001b[31m13.8 MB/s\u001b[0m eta \u001b[36m0:00:00\u001b[0m\n",
      "\u001b[?25hDownloading striprtf-0.0.26-py3-none-any.whl (6.9 kB)\n",
      "Downloading tenacity-8.5.0-py3-none-any.whl (28 kB)\n",
      "Downloading tiktoken-0.7.0-cp310-cp310-manylinux_2_17_x86_64.manylinux2014_x86_64.whl (1.1 MB)\n",
      "\u001b[2K   \u001b[90m━━━━━━━━━━━━━━━━━━━━━━━━━━━━━━━━━━━━━━━━\u001b[0m \u001b[32m1.1/1.1 MB\u001b[0m \u001b[31m34.2 MB/s\u001b[0m eta \u001b[36m0:00:00\u001b[0m\n",
      "\u001b[?25hDownloading typing_inspect-0.9.0-py3-none-any.whl (8.8 kB)\n",
      "Downloading dataclasses_json-0.6.7-py3-none-any.whl (28 kB)\n",
      "Downloading jiter-0.5.0-cp310-cp310-manylinux_2_17_x86_64.manylinux2014_x86_64.whl (318 kB)\n",
      "\u001b[2K   \u001b[90m━━━━━━━━━━━━━━━━━━━━━━━━━━━━━━━━━━━━━━━━\u001b[0m \u001b[32m318.9/318.9 kB\u001b[0m \u001b[31m17.8 MB/s\u001b[0m eta \u001b[36m0:00:00\u001b[0m\n",
      "\u001b[?25hDownloading marshmallow-3.22.0-py3-none-any.whl (49 kB)\n",
      "\u001b[2K   \u001b[90m━━━━━━━━━━━━━━━━━━━━━━━━━━━━━━━━━━━━━━━━\u001b[0m \u001b[32m49.3/49.3 kB\u001b[0m \u001b[31m2.5 MB/s\u001b[0m eta \u001b[36m0:00:00\u001b[0m\n",
      "\u001b[?25hDownloading mypy_extensions-1.0.0-py3-none-any.whl (4.7 kB)\n",
      "Downloading h11-0.14.0-py3-none-any.whl (58 kB)\n",
      "\u001b[2K   \u001b[90m━━━━━━━━━━━━━━━━━━━━━━━━━━━━━━━━━━━━━━━━\u001b[0m \u001b[32m58.3/58.3 kB\u001b[0m \u001b[31m3.0 MB/s\u001b[0m eta \u001b[36m0:00:00\u001b[0m\n",
      "\u001b[?25hInstalling collected packages: striprtf, dirtyjson, tenacity, pypdf, nltk, mypy-extensions, marshmallow, jiter, h11, deprecated, typing-inspect, tiktoken, httpcore, httpx, dataclasses-json, openai, llama-index-core, llama-cloud, llama-parse, llama-index-readers-file, llama-index-llms-openai, llama-index-legacy, llama-index-indices-managed-llama-cloud, llama-index-embeddings-openai, llama-index-readers-llama-parse, llama-index-multi-modal-llms-openai, llama-index-cli, llama-index-agent-openai, llama-index-program-openai, llama-index-question-gen-openai, llama-index\n",
      "  Attempting uninstall: tenacity\n",
      "    Found existing installation: tenacity 9.0.0\n",
      "    Uninstalling tenacity-9.0.0:\n",
      "      Successfully uninstalled tenacity-9.0.0\n",
      "  Attempting uninstall: nltk\n",
      "    Found existing installation: nltk 3.8.1\n",
      "    Uninstalling nltk-3.8.1:\n",
      "      Successfully uninstalled nltk-3.8.1\n",
      "Successfully installed dataclasses-json-0.6.7 deprecated-1.2.14 dirtyjson-1.0.8 h11-0.14.0 httpcore-1.0.5 httpx-0.27.2 jiter-0.5.0 llama-cloud-0.0.17 llama-index-0.11.11 llama-index-agent-openai-0.3.4 llama-index-cli-0.3.1 llama-index-core-0.11.11 llama-index-embeddings-openai-0.2.5 llama-index-indices-managed-llama-cloud-0.3.1 llama-index-legacy-0.9.48.post3 llama-index-llms-openai-0.2.9 llama-index-multi-modal-llms-openai-0.2.1 llama-index-program-openai-0.2.0 llama-index-question-gen-openai-0.2.0 llama-index-readers-file-0.2.2 llama-index-readers-llama-parse-0.3.0 llama-parse-0.5.6 marshmallow-3.22.0 mypy-extensions-1.0.0 nltk-3.9.1 openai-1.47.0 pypdf-4.3.1 striprtf-0.0.26 tenacity-8.5.0 tiktoken-0.7.0 typing-inspect-0.9.0\n"
     ]
    }
   ],
   "source": [
    "# Importing necessary libraries\n",
    "!pip install llama-index"
   ]
  },
  {
   "cell_type": "code",
   "execution_count": null,
   "metadata": {
    "colab": {
     "base_uri": "https://localhost:8080/"
    },
    "id": "BFp6ropMXYMr",
    "outputId": "d2c96389-6b44-43f8-81e6-49ef0dfe07d4"
   },
   "outputs": [
    {
     "name": "stdout",
     "output_type": "stream",
     "text": [
      "Collecting docx2txt\n",
      "  Downloading docx2txt-0.8.tar.gz (2.8 kB)\n",
      "  Preparing metadata (setup.py) ... \u001b[?25l\u001b[?25hdone\n",
      "Building wheels for collected packages: docx2txt\n",
      "  Building wheel for docx2txt (setup.py) ... \u001b[?25l\u001b[?25hdone\n",
      "  Created wheel for docx2txt: filename=docx2txt-0.8-py3-none-any.whl size=3959 sha256=f80a4c3b581e15e207d5fa8f7f6f7762812efdd7ce990f462e4e3f1899a51882\n",
      "  Stored in directory: /root/.cache/pip/wheels/22/58/cf/093d0a6c3ecfdfc5f6ddd5524043b88e59a9a199cb02352966\n",
      "Successfully built docx2txt\n",
      "Installing collected packages: docx2txt\n",
      "Successfully installed docx2txt-0.8\n",
      "Requirement already satisfied: pypdf in /usr/local/lib/python3.10/dist-packages (4.3.1)\n",
      "Requirement already satisfied: typing_extensions>=4.0 in /usr/local/lib/python3.10/dist-packages (from pypdf) (4.12.2)\n",
      "Requirement already satisfied: openai in /usr/local/lib/python3.10/dist-packages (1.47.0)\n",
      "Requirement already satisfied: anyio<5,>=3.5.0 in /usr/local/lib/python3.10/dist-packages (from openai) (3.7.1)\n",
      "Requirement already satisfied: distro<2,>=1.7.0 in /usr/lib/python3/dist-packages (from openai) (1.7.0)\n",
      "Requirement already satisfied: httpx<1,>=0.23.0 in /usr/local/lib/python3.10/dist-packages (from openai) (0.27.2)\n",
      "Requirement already satisfied: jiter<1,>=0.4.0 in /usr/local/lib/python3.10/dist-packages (from openai) (0.5.0)\n",
      "Requirement already satisfied: pydantic<3,>=1.9.0 in /usr/local/lib/python3.10/dist-packages (from openai) (2.9.2)\n",
      "Requirement already satisfied: sniffio in /usr/local/lib/python3.10/dist-packages (from openai) (1.3.1)\n",
      "Requirement already satisfied: tqdm>4 in /usr/local/lib/python3.10/dist-packages (from openai) (4.66.5)\n",
      "Requirement already satisfied: typing-extensions<5,>=4.11 in /usr/local/lib/python3.10/dist-packages (from openai) (4.12.2)\n",
      "Requirement already satisfied: idna>=2.8 in /usr/local/lib/python3.10/dist-packages (from anyio<5,>=3.5.0->openai) (3.10)\n",
      "Requirement already satisfied: exceptiongroup in /usr/local/lib/python3.10/dist-packages (from anyio<5,>=3.5.0->openai) (1.2.2)\n",
      "Requirement already satisfied: certifi in /usr/local/lib/python3.10/dist-packages (from httpx<1,>=0.23.0->openai) (2024.8.30)\n",
      "Requirement already satisfied: httpcore==1.* in /usr/local/lib/python3.10/dist-packages (from httpx<1,>=0.23.0->openai) (1.0.5)\n",
      "Requirement already satisfied: h11<0.15,>=0.13 in /usr/local/lib/python3.10/dist-packages (from httpcore==1.*->httpx<1,>=0.23.0->openai) (0.14.0)\n",
      "Requirement already satisfied: annotated-types>=0.6.0 in /usr/local/lib/python3.10/dist-packages (from pydantic<3,>=1.9.0->openai) (0.7.0)\n",
      "Requirement already satisfied: pydantic-core==2.23.4 in /usr/local/lib/python3.10/dist-packages (from pydantic<3,>=1.9.0->openai) (2.23.4)\n"
     ]
    }
   ],
   "source": [
    "# Document loaders for SimpleDirectoryReader\n",
    "!pip install docx2txt\n",
    "!pip install pypdf\n",
    "\n",
    "# Install OpenAI\n",
    "!pip install openai\n"
   ]
  },
  {
   "cell_type": "code",
   "execution_count": null,
   "metadata": {
    "id": "KExiC8xbXsJA"
   },
   "outputs": [],
   "source": [
    "#import openAI\n",
    "from llama_index.llms.openai import OpenAI\n",
    "#import ChatMessage\n",
    "from llama_index.core.llms import ChatMessage\n",
    "#import os\n",
    "import os\n",
    "import openai"
   ]
  },
  {
   "cell_type": "code",
   "execution_count": null,
   "metadata": {
    "colab": {
     "base_uri": "https://localhost:8080/"
    },
    "id": "bzpX4QAlYwKV",
    "outputId": "85984ea6-8ab8-4aba-b029-5a6a85eecf98"
   },
   "outputs": [
    {
     "name": "stdout",
     "output_type": "stream",
     "text": [
      "Mounted at /content/drive\n"
     ]
    }
   ],
   "source": [
    "from google.colab import drive\n",
    "drive.mount('/content/drive', force_remount=True)"
   ]
  },
  {
   "cell_type": "code",
   "execution_count": null,
   "metadata": {
    "id": "-zcFm_eNZHyk"
   },
   "outputs": [],
   "source": [
    "#Set API key\n",
    "filepath=\"/content/drive/MyDrive/\"\n",
    "with open(filepath + \"OpenAI_API_Key.txt\",\"r\") as f:\n",
    "  openai.api_key=''.join(f.readlines())"
   ]
  },
  {
   "cell_type": "code",
   "execution_count": null,
   "metadata": {
    "id": "qQ9vKQz2bU8q"
   },
   "outputs": [],
   "source": [
    "#import SimpleDirectoryReader\n",
    "from llama_index.core import SimpleDirectoryReader\n",
    "\n",
    "# Create object of SimpleDirectoryReader\n",
    "reader=SimpleDirectoryReader(input_dir=\"/content/drive/MyDrive/Policy+Documents (3)/\")"
   ]
  },
  {
   "cell_type": "code",
   "execution_count": null,
   "metadata": {
    "colab": {
     "base_uri": "https://localhost:8080/"
    },
    "id": "X7FFlZy4cXCs",
    "outputId": "86561ef2-0a39-4221-f168-1202a8d7d10b"
   },
   "outputs": [
    {
     "name": "stdout",
     "output_type": "stream",
     "text": [
      "Loaded 217 documents/pages successfully.\n"
     ]
    }
   ],
   "source": [
    "documents=reader.load_data()\n",
    "#lenth of documents\n",
    "print(f\"Loaded {len(documents)} documents/pages successfully.\")"
   ]
  },
  {
   "cell_type": "code",
   "execution_count": null,
   "metadata": {
    "colab": {
     "base_uri": "https://localhost:8080/"
    },
    "id": "FcDYTFSsdY-A",
    "outputId": "9fff2188-2a25-4480-f8ec-67fb3ee748ef"
   },
   "outputs": [
    {
     "data": {
      "text/plain": [
       "Document(id_='63aa5cf2-3460-40bc-90aa-f2ad407c6775', embedding=None, metadata={'page_label': '1', 'file_name': 'HDFC-Life-Easy-Health-101N110V03-Policy-Bond-Single-Pay.pdf', 'file_path': '/content/drive/MyDrive/Policy+Documents (3)/HDFC-Life-Easy-Health-101N110V03-Policy-Bond-Single-Pay.pdf', 'file_type': 'application/pdf', 'file_size': 1303156, 'creation_date': '2024-09-21', 'last_modified_date': '2024-09-21'}, excluded_embed_metadata_keys=['file_name', 'file_type', 'file_size', 'creation_date', 'last_modified_date', 'last_accessed_date'], excluded_llm_metadata_keys=['file_name', 'file_type', 'file_size', 'creation_date', 'last_modified_date', 'last_accessed_date'], relationships={}, text=' \\n             Part A \\n<<Date>> \\n<<Policyholder’s Name>>  \\n<<Policyholder’s Address>> \\n<<Policyholder’s Contact Number>>  \\n \\nDear <<Policyholder’s Name>>,  \\n \\nSub: Your Policy no. <<  >> \\nWe are glad to inform you that your proposal has been accepted and the HDFC Life Easy Health (“Policy”) \\nbeing this document, has been issued. We have made every effort to design your Policy in a simple format. We \\nhave highlighted items of importance so that you may recognize them easily. \\n \\nPolicy document:  \\nAs an evidence of the insurance contract between HDFC Life Insurance Company Limited and you, the Policy \\nis enclosed herewith. Please preserve this document safely and also inform your nominees about the same. A \\ncopy of your proposal form and other relevant documents submitted by you is also enclosed for your \\ninformation and record.  \\n \\nCancellation in the Free-Look Period:  \\n \\n<< In case you are not agreeable to any of the terms and conditions stated in the Policy, you have the option to \\nreturn the Policy to us for cancellation stating the reasons thereof, within 30 days from the date of receipt of the \\nPolicy as your Policy is an electronic Policy / purchased through Distance Marketing mode. On receipt of your \\nletter along with the original Policy (original Policy Document is not required for policies in dematerialised \\nform), we shall arrange to refund the Premium paid by you, subject to deduction of the proportionate risk \\nPremium for the period of cover and the expenses incurred by us for medical examination (if any) and stamp \\nduty charges. / In case you are not agreeable to any of the terms and conditions stated in the Policy, you have the \\noption to return the Policy to us for cancellation stating the reasons thereof, within 15 days from the date of \\nreceipt of the Policy. On receipt of your letter along with the original Policy (original Policy Document is not \\nrequired for policies in dematerialised form), we shall arrange to refund the Premium paid by you, subject to \\ndeduction of the proportionate risk Premium for the period of cover and the expenses incurred by us for medical \\nexamination (if any) and stamp duty charges. >> \\n \\nContacting us: \\nThe address for correspondence is specified below. To enable us to serve you better, you are requested to quote \\nyour Policy number in all future correspondence. In case you are keen to know more about our products and \\nservices, we would request you to talk to our Certified Financial Consultant (Insurance Agent) who has advised \\nyou while taking this Policy. The details of your Certified Financial Consultant including contact details are \\nlisted below.  \\n \\nTo contact us in case of any grievance, please refer to Part G. In case you are not satisfied with our response, \\nyou can also approach the Insurance Ombudsman in your region. \\n \\nThanking you for choosing HDFC Life Insurance Company Limited and looking forward to serving you in the \\nyears ahead, \\nYours sincerely, \\n \\n<< Designation of the Authorised Signatory >> \\n \\nBranch Address:  <<Branch Address>>  \\nAgency/Intermediary Code:  <<Agency/Intermediary Code>> \\nAgency/Intermediary Name:  <<Agency/Intermediary Name>> \\nAgency/Intermediary Telephone Number:  <<Agency/Intermediary mobile & \\nlandline number>> ', mimetype='text/plain', start_char_idx=None, end_char_idx=None, text_template='{metadata_str}\\n\\n{content}', metadata_template='{key}: {value}', metadata_seperator='\\n')"
      ]
     },
     "execution_count": 11,
     "metadata": {},
     "output_type": "execute_result"
    }
   ],
   "source": [
    "documents[0]"
   ]
  },
  {
   "cell_type": "markdown",
   "metadata": {
    "id": "zpqR8wdIeH1f"
   },
   "source": [
    "Step 4: Building the query engine"
   ]
  },
  {
   "cell_type": "code",
   "execution_count": null,
   "metadata": {
    "id": "8snLnPZseK_I"
   },
   "outputs": [],
   "source": [
    "# import SimpleNodeParser\n",
    "from llama_index.core.node_parser import SimpleNodeParser\n",
    "# import VectorStoreIndex\n",
    "from llama_index.core import VectorStoreIndex\n",
    "# import display, HTML\n",
    "from IPython.display import display, HTML\n",
    "\n",
    "\n",
    "# Create parser and parse docuemnts into nodes\n",
    "parser=SimpleNodeParser.from_defaults()\n",
    "nodes=parser.get_nodes_from_documents(documents)\n",
    "\n",
    "# build index\n",
    "index=VectorStoreIndex(nodes)\n",
    "\n",
    "#construct query engine\n",
    "query_engine=index.as_query_engine()\n"
   ]
  },
  {
   "cell_type": "code",
   "execution_count": null,
   "metadata": {
    "id": "ogmrjiOli4Wr"
   },
   "outputs": [],
   "source": [
    "#query\n",
    "response=query_engine.query(\"What provisions may allow for a longer reinstatement period for an approved leave of absence taken in accordance with the Uniformed Services Employment and Reemployment Rights Act of 1994 (USERRA)?\")"
   ]
  },
  {
   "cell_type": "code",
   "execution_count": null,
   "metadata": {
    "colab": {
     "base_uri": "https://localhost:8080/",
     "height": 53
    },
    "id": "lM_TllwjjYjS",
    "outputId": "41198c16-14fc-4e4c-98e2-9cc9b2bf4245"
   },
   "outputs": [
    {
     "data": {
      "application/vnd.google.colaboratory.intrinsic+json": {
       "type": "string"
      },
      "text/plain": [
       "'The provisions that may allow for a longer reinstatement period for an approved leave of absence taken in accordance with the Uniformed Services Employment and Reemployment Rights Act of 1994 (USERRA) are those that specify a Revival Period of three years from the date of the first unpaid Premium.'"
      ]
     },
     "execution_count": 14,
     "metadata": {},
     "output_type": "execute_result"
    }
   ],
   "source": [
    "response.response"
   ]
  },
  {
   "cell_type": "code",
   "execution_count": null,
   "metadata": {
    "colab": {
     "base_uri": "https://localhost:8080/"
    },
    "id": "1rSXE10Jje4a",
    "outputId": "cf116925-99ea-4e62-e5eb-511103f944e3"
   },
   "outputs": [
    {
     "data": {
      "text/plain": [
       "['__annotations__',\n",
       " '__class__',\n",
       " '__dataclass_fields__',\n",
       " '__dataclass_params__',\n",
       " '__delattr__',\n",
       " '__dict__',\n",
       " '__dir__',\n",
       " '__doc__',\n",
       " '__eq__',\n",
       " '__format__',\n",
       " '__ge__',\n",
       " '__getattribute__',\n",
       " '__gt__',\n",
       " '__hash__',\n",
       " '__init__',\n",
       " '__init_subclass__',\n",
       " '__le__',\n",
       " '__lt__',\n",
       " '__match_args__',\n",
       " '__module__',\n",
       " '__ne__',\n",
       " '__new__',\n",
       " '__reduce__',\n",
       " '__reduce_ex__',\n",
       " '__repr__',\n",
       " '__setattr__',\n",
       " '__sizeof__',\n",
       " '__str__',\n",
       " '__subclasshook__',\n",
       " '__weakref__',\n",
       " 'get_formatted_sources',\n",
       " 'metadata',\n",
       " 'response',\n",
       " 'source_nodes']"
      ]
     },
     "execution_count": 15,
     "metadata": {},
     "output_type": "execute_result"
    }
   ],
   "source": [
    "dir(response)"
   ]
  },
  {
   "cell_type": "code",
   "execution_count": null,
   "metadata": {
    "colab": {
     "base_uri": "https://localhost:8080/"
    },
    "id": "yecJg3knjr2q",
    "outputId": "1356a6eb-5862-4661-dcab-ef254f8eef85"
   },
   "outputs": [
    {
     "data": {
      "text/plain": [
       "{'b107ad26-7f4a-4449-90a0-8fb47ac0edc8': {'page_label': '11',\n",
       "  'file_name': 'HDFC-Life-Sampoorna-Jeevan-101N158V04-Policy-Document (1).pdf',\n",
       "  'file_path': '/content/drive/MyDrive/Policy+Documents (3)/HDFC-Life-Sampoorna-Jeevan-101N158V04-Policy-Document (1).pdf',\n",
       "  'file_type': 'application/pdf',\n",
       "  'file_size': 1990500,\n",
       "  'creation_date': '2024-09-21',\n",
       "  'last_modified_date': '2024-09-21'},\n",
       " 'ceafe426-b428-4297-8bb0-45c72cd50edf': {'page_label': '11',\n",
       "  'file_name': 'HDFC-Life-Smart-Pension-Plan-Policy-Document-Online.pdf',\n",
       "  'file_path': '/content/drive/MyDrive/Policy+Documents (3)/HDFC-Life-Smart-Pension-Plan-Policy-Document-Online.pdf',\n",
       "  'file_type': 'application/pdf',\n",
       "  'file_size': 983547,\n",
       "  'creation_date': '2024-09-21',\n",
       "  'last_modified_date': '2024-09-21'}}"
      ]
     },
     "execution_count": 16,
     "metadata": {},
     "output_type": "execute_result"
    }
   ],
   "source": [
    "response.metadata"
   ]
  },
  {
   "cell_type": "code",
   "execution_count": null,
   "metadata": {
    "colab": {
     "base_uri": "https://localhost:8080/"
    },
    "id": "hnEEtll3zAuG",
    "outputId": "467716f9-5e2b-4a3d-b30e-d477d271971f"
   },
   "outputs": [
    {
     "data": {
      "text/plain": [
       "[NodeWithScore(node=TextNode(id_='b107ad26-7f4a-4449-90a0-8fb47ac0edc8', embedding=None, metadata={'page_label': '11', 'file_name': 'HDFC-Life-Sampoorna-Jeevan-101N158V04-Policy-Document (1).pdf', 'file_path': '/content/drive/MyDrive/Policy+Documents (3)/HDFC-Life-Sampoorna-Jeevan-101N158V04-Policy-Document (1).pdf', 'file_type': 'application/pdf', 'file_size': 1990500, 'creation_date': '2024-09-21', 'last_modified_date': '2024-09-21'}, excluded_embed_metadata_keys=['file_name', 'file_type', 'file_size', 'creation_date', 'last_modified_date', 'last_accessed_date'], excluded_llm_metadata_keys=['file_name', 'file_type', 'file_size', 'creation_date', 'last_modified_date', 'last_accessed_date'], relationships={<NodeRelationship.SOURCE: '1'>: RelatedNodeInfo(node_id='3cae4910-ffc1-43f2-9585-0600d598012e', node_type=<ObjectType.DOCUMENT: '4'>, metadata={'page_label': '11', 'file_name': 'HDFC-Life-Sampoorna-Jeevan-101N158V04-Policy-Document (1).pdf', 'file_path': '/content/drive/MyDrive/Policy+Documents (3)/HDFC-Life-Sampoorna-Jeevan-101N158V04-Policy-Document (1).pdf', 'file_type': 'application/pdf', 'file_size': 1990500, 'creation_date': '2024-09-21', 'last_modified_date': '2024-09-21'}, hash='baf4ad9a1104323e114b012637bbfdddf4b156df80a66aa99021d54f42757c04'), <NodeRelationship.PREVIOUS: '2'>: RelatedNodeInfo(node_id='858ea4d6-c8e0-48df-a8de-b4a73e480480', node_type=<ObjectType.TEXT: '1'>, metadata={'page_label': '11', 'file_name': 'HDFC-Life-Sampoorna-Jeevan-101N158V04-Policy-Document (1).pdf', 'file_path': '/content/drive/MyDrive/Policy+Documents (3)/HDFC-Life-Sampoorna-Jeevan-101N158V04-Policy-Document (1).pdf', 'file_type': 'application/pdf', 'file_size': 1990500, 'creation_date': '2024-09-21', 'last_modified_date': '2024-09-21'}, hash='1342be1a27f1812798f3e3f18065b94bb1f015227f39ef61814570497ac61fce')}, text='D.2.2.  Notwithstanding anything to the contrary contained elsewhere in this Policy, the Company reserves the right to revive  \\nthe lapsed Policy either on its original terms and conditions or on such other or modified terms and conditions as the \\nCompany may specify or to reject the Revival . If needed the Company may refer it to its medical examiner in decid ing \\non Revival  of lapse d Policy. Subject to the provisions of Clauses D.2.1 above, the Revival  shall come into effect on the \\ndate when the Company specifically communicates it in writing to the Policyholder.  \\n \\nD.2.3  If the Policy is not revived for full Benefits before the Policy  Maturity Date but within five years from the due date for \\npayment of the first unpaid Premium and if the Policy has not acquired Guaranteed Surrender Value, then the Policy \\nwill terminate.  \\n \\nD.3.  Non-Forfeiture options : PART D  \\nPolicy Servicing Related Aspects', mimetype='text/plain', start_char_idx=3529, end_char_idx=4449, text_template='{metadata_str}\\n\\n{content}', metadata_template='{key}: {value}', metadata_seperator='\\n'), score=0.7720022811789837),\n",
       " NodeWithScore(node=TextNode(id_='ceafe426-b428-4297-8bb0-45c72cd50edf', embedding=None, metadata={'page_label': '11', 'file_name': 'HDFC-Life-Smart-Pension-Plan-Policy-Document-Online.pdf', 'file_path': '/content/drive/MyDrive/Policy+Documents (3)/HDFC-Life-Smart-Pension-Plan-Policy-Document-Online.pdf', 'file_type': 'application/pdf', 'file_size': 983547, 'creation_date': '2024-09-21', 'last_modified_date': '2024-09-21'}, excluded_embed_metadata_keys=['file_name', 'file_type', 'file_size', 'creation_date', 'last_modified_date', 'last_accessed_date'], excluded_llm_metadata_keys=['file_name', 'file_type', 'file_size', 'creation_date', 'last_modified_date', 'last_accessed_date'], relationships={<NodeRelationship.SOURCE: '1'>: RelatedNodeInfo(node_id='3e0afb20-edd6-42e7-9ea8-c52f80821088', node_type=<ObjectType.DOCUMENT: '4'>, metadata={'page_label': '11', 'file_name': 'HDFC-Life-Smart-Pension-Plan-Policy-Document-Online.pdf', 'file_path': '/content/drive/MyDrive/Policy+Documents (3)/HDFC-Life-Smart-Pension-Plan-Policy-Document-Online.pdf', 'file_type': 'application/pdf', 'file_size': 983547, 'creation_date': '2024-09-21', 'last_modified_date': '2024-09-21'}, hash='1e9f26594dedd5ba355f31cc2008ccacdd058f4fd6f06bc0a6063e8cface8425'), <NodeRelationship.NEXT: '3'>: RelatedNodeInfo(node_id='4e234628-c502-43f4-99e8-b835f2d4afbb', node_type=<ObjectType.TEXT: '1'>, metadata={}, hash='3ea849f4e6a27b3361b3f0bb7a02acd59508453a832ee030095b723ea4368bfd')}, text='HDFC  Life Smart Pension Plan 101L164V02  – Terms and Conditions  (Direct & \\nOnline Sales)  \\n(A Unit Linked Non -Participating Individual Pension Plan)   \\n  Page 11 of 37  \\n \\nPART D  \\nPOLICY SERVICING RELATED ASPECTS  \\n \\nThe Policyholder shall have a period of 15 days from the date of receipt of the Policy document to review the terms \\nand conditions of this Policy and if the Policyholder disagrees with the said terms and conditions, the Policyholder shall \\nhave the option t o return the Policy to the Company for cancellation, stating the reasons for His objections. Upon such \\nFree-Look cancellation , the Company shall return the Premium paid subject to deduction of a proportionate risk \\nPremium for the period of insurance cover and medical examination fees (if any) in addition to the stamp duty charges. \\nAll Benefits and rights under this Policy shall immediately stand terminated on the cancellation of the Policy.  \\n \\nThe Policyholder shall have a period of 30 days if the Policy is s ourced through Distance Marketing# from the date of \\nreceipt of the Policy document to review the terms and conditions of this Policy and if the Policyholder disagrees with \\nthe said terms and conditions, the Policyholder shall have the option to return the Policy to the Company for \\ncancellation, stating the reasons for His objections. Upon such Free -Look cancellation , the Company shall return the \\nPremium paid subject to deduction of a proportionate risk Premium for the period of insurance cover and medical \\nexamination fees (if any) in addition to the stamp duty charges. All Benefits and rights under this Policy shall \\nimmediately stand terminated on the cancellation of the Policy.  \\n# Distance Marketing includes every activity of solicitation (including lead gen eration) and sale of insurance products \\nthrough the following modes: (i) voice mode, which includes telephone -calling (ii) short messaging service (SMS) (iii) \\nelectronic mode which includes e -mail, internet and interactive television (DTH) (iv) physical mo de which includes \\ndirect postal mail and newspaper and magazine inserts and (v) solicitation through any means of comm unication other \\nthan in person.  \\nD.2 Discontinuance Provisions:  It is the state of the Policy that could arise on account of Surrender of the Policy \\nor non -payment of the contractual premium.  \\n \\nD.2.1. Discontinuance of the Policy during Lock -in Period:  \\n \\nD.2.1.1.)  For other than single P remium policies,  upon expiry of the Grace Period, in case of D iscontinuanc e of \\nPolicy due to non -payment of Premium, the Fund V alue after deducting the applicabl e Discontinuance charges, shall  \\nbe credited to the Discontinued Policy F und and the risk cover shall cease.  \\n \\nD.2.1.2.)  Such discontinuance charges shall not exceed the charges as stipulated in Clause E.6.5.  All such discontinue d \\npolicies shall be provided a Revival P eriod of three years from date of first  unpaid P remium. On such Discontinuance, \\nthe Company shall communicate th e status of the P olicy, within three  months of the first unpaid Premium, to the \\nPolicyholder and provide the option to revive the P olicy within the  Revival P eriod of three years.  \\n \\nD.2.1.2.1.)  In case the P olicyholder opts to revive but does not revive the Policy during the Revival P eriod, the  \\nproceeds of the Discontinued Policy F und shall be paid * to the P olicyholder a t the end of the Revival P eriod or Lock -in \\nPeriod whi chever is later. In respect of Revival P eriod ending a fter Lock -in Period, the P olicy will remain in  Discontinued \\nPolicy Fund  till the end of Revival P eriod.  The Fund management charges of  Discontinued Policy F und will be applicable \\nduring this period and no other charges will be applied.  \\n \\nD.2.1.2.2.)  In case the P olicyholder does not exercis e the option as set out above, the  Policy shall continue without \\nany ris k cover and the P olicy fun d shall remain invested in the D iscontinu ed Policy Fund.', mimetype='text/plain', start_char_idx=0, end_char_idx=3991, text_template='{metadata_str}\\n\\n{content}', metadata_template='{key}: {value}', metadata_seperator='\\n'), score=0.7669676849824166)]"
      ]
     },
     "execution_count": 17,
     "metadata": {},
     "output_type": "execute_result"
    }
   ],
   "source": [
    "response.source_nodes"
   ]
  },
  {
   "cell_type": "code",
   "execution_count": null,
   "metadata": {
    "colab": {
     "base_uri": "https://localhost:8080/"
    },
    "id": "6_y49CdYzGxL",
    "outputId": "3b24f8ec-0121-4eac-b43a-fe851791794c"
   },
   "outputs": [
    {
     "data": {
      "text/plain": [
       "2"
      ]
     },
     "execution_count": 18,
     "metadata": {},
     "output_type": "execute_result"
    }
   ],
   "source": [
    "len(response.source_nodes)"
   ]
  },
  {
   "cell_type": "code",
   "execution_count": null,
   "metadata": {
    "colab": {
     "base_uri": "https://localhost:8080/"
    },
    "id": "8ds62KNQzW2W",
    "outputId": "2778a1a1-6a2d-4921-d8e6-1bd8e808c8a9"
   },
   "outputs": [
    {
     "name": "stdout",
     "output_type": "stream",
     "text": [
      "HDFC-Life-Sampoorna-Jeevan-101N158V04-Policy-Document (1).pdf\n",
      "11\n"
     ]
    }
   ],
   "source": [
    "print(response.source_nodes[0].node.metadata['file_name'])\n",
    "print(response.source_nodes[0].node.metadata['page_label'])"
   ]
  },
  {
   "cell_type": "code",
   "execution_count": null,
   "metadata": {
    "colab": {
     "base_uri": "https://localhost:8080/"
    },
    "id": "42hjH3xcze1e",
    "outputId": "dffb002c-1681-4d5a-e47e-6eafa35aaeb8"
   },
   "outputs": [
    {
     "name": "stdout",
     "output_type": "stream",
     "text": [
      "HDFC-Life-Sampoorna-Jeevan-101N158V04-Policy-Document (1).pdf Page No 11\n"
     ]
    }
   ],
   "source": [
    "print(response.source_nodes[0].node.metadata['file_name'] + \" Page No \" + response.source_nodes[0].node.metadata['page_label'])"
   ]
  },
  {
   "cell_type": "code",
   "execution_count": null,
   "metadata": {
    "colab": {
     "base_uri": "https://localhost:8080/"
    },
    "id": "MKSKVWRF0MH0",
    "outputId": "f969112e-31f3-44fc-9db7-e716aaa2335b"
   },
   "outputs": [
    {
     "name": "stdout",
     "output_type": "stream",
     "text": [
      "0.7720022811789837\n"
     ]
    }
   ],
   "source": [
    "# Extract the score\n",
    "print(response.source_nodes[0].score)"
   ]
  },
  {
   "cell_type": "code",
   "execution_count": null,
   "metadata": {
    "colab": {
     "base_uri": "https://localhost:8080/",
     "height": 105
    },
    "id": "FtzNdWRo0fSK",
    "outputId": "41d87f7f-be0b-4a72-c462-12aacfa2df1e"
   },
   "outputs": [
    {
     "data": {
      "application/vnd.google.colaboratory.intrinsic+json": {
       "type": "string"
      },
      "text/plain": [
       "'D.2.2.  Notwithstanding anything to the contrary contained elsewhere in this Policy, the Company reserves the right to revive  \\nthe lapsed Policy either on its original terms and conditions or on such other or modified terms and conditions as the \\nCompany may specify or to reject the Revival . If needed the Company may refer it to its medical examiner in decid ing \\non Revival  of lapse d Policy. Subject to the provisions of Clauses D.2.1 above, the Revival  shall come into effect on the \\ndate when the Company specifically communicates it in writing to the Policyholder.  \\n \\nD.2.3  If the Policy is not revived for full Benefits before the Policy  Maturity Date but within five years from the due date for \\npayment of the first unpaid Premium and if the Policy has not acquired Guaranteed Surrender Value, then the Policy \\nwill terminate.  \\n \\nD.3.  Non-Forfeiture options : PART D  \\nPolicy Servicing Related Aspects'"
      ]
     },
     "execution_count": 22,
     "metadata": {},
     "output_type": "execute_result"
    }
   ],
   "source": [
    "# Response Node Text\n",
    "response.source_nodes[0].node.text"
   ]
  },
  {
   "cell_type": "markdown",
   "metadata": {
    "id": "eslmT0O23XdB"
   },
   "source": [
    "Step 6: Creating response pipeline"
   ]
  },
  {
   "cell_type": "code",
   "execution_count": null,
   "metadata": {
    "id": "oAWAKgXS3c-c"
   },
   "outputs": [],
   "source": [
    "# Query response function\n",
    "def query_response(user_input):\n",
    "  response=query_engine.query(user_input)\n",
    "  file_name=response.source_nodes[0].node.metadata['file_name'] + \" Page No \" + response.source_nodes[0].node.metadata['page_label']\n",
    "  final_response=response.response + \"\\nCheck further at \" + file_name\n",
    "  return final_response"
   ]
  },
  {
   "cell_type": "code",
   "execution_count": null,
   "metadata": {
    "id": "fN1oUzer5Mag"
   },
   "outputs": [],
   "source": [
    "def initialize_conv():\n",
    "  print(\"Feel free to ask questions related to insurance policies. Enter exit once you are done!\")\n",
    "  while True:\n",
    "    user_input=input()\n",
    "    if user_input.lower() == \"exit\":\n",
    "      print(\"Exiting the program. Bye!!!\")\n",
    "      break\n",
    "    else:\n",
    "      response=query_response(user_input)\n",
    "      display(HTML(f'<p style=\"font-size:20px\">{response}</p>'))\n"
   ]
  },
  {
   "cell_type": "code",
   "execution_count": null,
   "metadata": {
    "colab": {
     "base_uri": "https://localhost:8080/",
     "height": 173
    },
    "id": "_LZJsH0X6ps0",
    "outputId": "1cdfe7c1-df6f-4a27-8e66-8b1659a5d108"
   },
   "outputs": [
    {
     "name": "stdout",
     "output_type": "stream",
     "text": [
      "Feel free to ask questions related to insurance policies. Enter exit once you are done!\n",
      "What provisions may allow for a longer reinstatement period for an approved leave of absence taken in accordance with the Uniformed Services Employment and Reemployment Rights Act of 1994 (USERRA)?\n"
     ]
    },
    {
     "data": {
      "text/html": [
       "<p style=\"font-size:20px\">The provisions that may allow for a longer reinstatement period for an approved leave of absence taken in accordance with the Uniformed Services Employment and Reemployment Rights Act of 1994 (USERRA) are those that specify the revival period of three years from the date of the first unpaid premium for discontinued policies.\n",
       "Check further at HDFC-Life-Sampoorna-Jeevan-101N158V04-Policy-Document (1).pdf Page No 11</p>"
      ],
      "text/plain": [
       "<IPython.core.display.HTML object>"
      ]
     },
     "metadata": {},
     "output_type": "display_data"
    },
    {
     "name": "stdout",
     "output_type": "stream",
     "text": [
      "exit\n",
      "Exiting the program. Bye!!!\n"
     ]
    }
   ],
   "source": [
    "initialize_conv()"
   ]
  },
  {
   "cell_type": "markdown",
   "metadata": {
    "id": "EpvO4luw7FAb"
   },
   "source": [
    "Step 7: Building a test pipeline"
   ]
  },
  {
   "cell_type": "code",
   "execution_count": null,
   "metadata": {
    "id": "xcYXSNHN7N6L"
   },
   "outputs": [],
   "source": [
    "questions=[\"What provisions may allow for a longer reinstatement period for an approved leave of absence taken in accordance with the Uniformed Services Employment and Reemployment Rights Act of 1994 (USERRA)?\",\n",
    "           \"How is the peroid of time during which a reinstated Member's insurance was not in force treated for the purpose of determining the length of continuous coverage under the Group Policy?\",\n",
    "           \"What are the requirements for placing in force any Scheduled benefit that would have been subject to Proof of Good Health has the member remained continuously insured?\"]"
   ]
  },
  {
   "cell_type": "code",
   "execution_count": null,
   "metadata": {
    "id": "X6fF4wpu7nnZ"
   },
   "outputs": [],
   "source": [
    "import pandas as pd\n",
    "\n",
    "def testing_pipeline(questions):\n",
    "  test_feedback=[]\n",
    "  for i in questions:\n",
    "    print(i)\n",
    "    print(query_response(i))\n",
    "    print(\"\\nPlease provide your feedback on the response provided by bot\")\n",
    "    user_input=input()\n",
    "    page=query_response(i).split()[-1]\n",
    "    test_feedback.append((i,query_response(i),page,user_input))\n",
    "\n",
    "  feedback_df=pd.DataFrame(test_feedback,columns=[\"Question\",\"Response\",\"Page\",\"Good/Bad\"])\n",
    "  return feedback_df"
   ]
  },
  {
   "cell_type": "code",
   "execution_count": null,
   "metadata": {
    "colab": {
     "base_uri": "https://localhost:8080/",
     "height": 476
    },
    "id": "hHNkg6mk9gQj",
    "outputId": "6fd829d8-92e3-4e78-be77-b7a5fea6c60b"
   },
   "outputs": [
    {
     "name": "stdout",
     "output_type": "stream",
     "text": [
      "What provisions may allow for a longer reinstatement period for an approved leave of absence taken in accordance with the Uniformed Services Employment and Reemployment Rights Act of 1994 (USERRA)?\n",
      "The provisions that may allow for a longer reinstatement period for an approved leave of absence taken in accordance with the Uniformed Services Employment and Reemployment Rights Act of 1994 (USERRA) are those that specify a Revival Period of three years from the date of the first unpaid Premium for the Policyholder to revive the Policy.\n",
      "Check further at HDFC-Life-Sampoorna-Jeevan-101N158V04-Policy-Document (1).pdf Page No 11\n",
      "\n",
      "Please provide your feedback on the response provided by bot\n",
      "How is the peroid of time during which a reinstated Member's insurance was not in force treated for the purpose of determining the length of continuous coverage under the Group Policy?\n",
      "How is the peroid of time during which a reinstated Member's insurance was not in force treated for the purpose of determining the length of continuous coverage under the Group Policy?\n",
      "The period of time during which a reinstated Member's insurance was not in force is typically not considered for the purpose of determining the length of continuous coverage under the Group Policy.\n",
      "Check further at HDFC-Life-Group-Term-Life-Policy.pdf Page No 15\n",
      "\n",
      "Please provide your feedback on the response provided by bot\n",
      "What are the requirements for placing in force any Scheduled benefit that would have been subject to Proof of Good Health has the member remained continuously insured?\n",
      "What are the requirements for placing in force any Scheduled benefit that would have been subject to Proof of Good Health has the member remained continuously insured?\n",
      "The requirements for placing in force any Scheduled benefit that would have been subject to Proof of Good Health if the member had remained continuously insured are determined by the Company based on the medical evidence required.\n",
      "Check further at HDFC-Life-Group-Term-Life-Policy.pdf Page No 15\n",
      "\n",
      "Please provide your feedback on the response provided by bot\n",
      "good\n"
     ]
    },
    {
     "data": {
      "application/vnd.google.colaboratory.intrinsic+json": {
       "summary": "{\n  \"name\": \"testing_pipeline(questions)\",\n  \"rows\": 3,\n  \"fields\": [\n    {\n      \"column\": \"Question\",\n      \"properties\": {\n        \"dtype\": \"string\",\n        \"num_unique_values\": 3,\n        \"samples\": [\n          \"What provisions may allow for a longer reinstatement period for an approved leave of absence taken in accordance with the Uniformed Services Employment and Reemployment Rights Act of 1994 (USERRA)?\",\n          \"How is the peroid of time during which a reinstated Member's insurance was not in force treated for the purpose of determining the length of continuous coverage under the Group Policy?\",\n          \"What are the requirements for placing in force any Scheduled benefit that would have been subject to Proof of Good Health has the member remained continuously insured?\"\n        ],\n        \"semantic_type\": \"\",\n        \"description\": \"\"\n      }\n    },\n    {\n      \"column\": \"Response\",\n      \"properties\": {\n        \"dtype\": \"string\",\n        \"num_unique_values\": 3,\n        \"samples\": [\n          \"The provisions that may allow for a longer reinstatement period for an approved leave of absence taken in accordance with the Uniformed Services Employment and Reemployment Rights Act of 1994 (USERRA) are those that specify the Revival Period of three years from the date of the first unpaid Premium for policies that have been discontinued due to non-payment of Premium.\\nCheck further at HDFC-Life-Sampoorna-Jeevan-101N158V04-Policy-Document (1).pdf Page No 11\",\n          \"The period of time during which a reinstated Member's insurance was not in force is typically not considered for the purpose of determining the length of continuous coverage under the Group Policy.\\nCheck further at HDFC-Life-Group-Term-Life-Policy.pdf Page No 15\",\n          \"The requirements for placing in force any Scheduled benefit that would have been subject to Proof of Good Health if the member remained continuously insured are that the member must continue to satisfy the Eligibility Criteria to retain membership. Failure to do so would result in the member no longer being covered under the Policy.\\nCheck further at HDFC-Life-Group-Term-Life-Policy.pdf Page No 15\"\n        ],\n        \"semantic_type\": \"\",\n        \"description\": \"\"\n      }\n    },\n    {\n      \"column\": \"Page\",\n      \"properties\": {\n        \"dtype\": \"string\",\n        \"num_unique_values\": 2,\n        \"samples\": [\n          \"15\",\n          \"11\"\n        ],\n        \"semantic_type\": \"\",\n        \"description\": \"\"\n      }\n    },\n    {\n      \"column\": \"Good/Bad\",\n      \"properties\": {\n        \"dtype\": \"string\",\n        \"num_unique_values\": 3,\n        \"samples\": [\n          \"How is the peroid of time during which a reinstated Member's insurance was not in force treated for the purpose of determining the length of continuous coverage under the Group Policy?\",\n          \"What are the requirements for placing in force any Scheduled benefit that would have been subject to Proof of Good Health has the member remained continuously insured?\"\n        ],\n        \"semantic_type\": \"\",\n        \"description\": \"\"\n      }\n    }\n  ]\n}",
       "type": "dataframe"
      },
      "text/html": [
       "\n",
       "  <div id=\"df-e9e21a2b-e6e3-4949-9b6b-532487c92f23\" class=\"colab-df-container\">\n",
       "    <div>\n",
       "<style scoped>\n",
       "    .dataframe tbody tr th:only-of-type {\n",
       "        vertical-align: middle;\n",
       "    }\n",
       "\n",
       "    .dataframe tbody tr th {\n",
       "        vertical-align: top;\n",
       "    }\n",
       "\n",
       "    .dataframe thead th {\n",
       "        text-align: right;\n",
       "    }\n",
       "</style>\n",
       "<table border=\"1\" class=\"dataframe\">\n",
       "  <thead>\n",
       "    <tr style=\"text-align: right;\">\n",
       "      <th></th>\n",
       "      <th>Question</th>\n",
       "      <th>Response</th>\n",
       "      <th>Page</th>\n",
       "      <th>Good/Bad</th>\n",
       "    </tr>\n",
       "  </thead>\n",
       "  <tbody>\n",
       "    <tr>\n",
       "      <th>0</th>\n",
       "      <td>What provisions may allow for a longer reinsta...</td>\n",
       "      <td>The provisions that may allow for a longer rei...</td>\n",
       "      <td>11</td>\n",
       "      <td>How is the peroid of time during which a reins...</td>\n",
       "    </tr>\n",
       "    <tr>\n",
       "      <th>1</th>\n",
       "      <td>How is the peroid of time during which a reins...</td>\n",
       "      <td>The period of time during which a reinstated M...</td>\n",
       "      <td>15</td>\n",
       "      <td>What are the requirements for placing in force...</td>\n",
       "    </tr>\n",
       "    <tr>\n",
       "      <th>2</th>\n",
       "      <td>What are the requirements for placing in force...</td>\n",
       "      <td>The requirements for placing in force any Sche...</td>\n",
       "      <td>15</td>\n",
       "      <td>good</td>\n",
       "    </tr>\n",
       "  </tbody>\n",
       "</table>\n",
       "</div>\n",
       "    <div class=\"colab-df-buttons\">\n",
       "\n",
       "  <div class=\"colab-df-container\">\n",
       "    <button class=\"colab-df-convert\" onclick=\"convertToInteractive('df-e9e21a2b-e6e3-4949-9b6b-532487c92f23')\"\n",
       "            title=\"Convert this dataframe to an interactive table.\"\n",
       "            style=\"display:none;\">\n",
       "\n",
       "  <svg xmlns=\"http://www.w3.org/2000/svg\" height=\"24px\" viewBox=\"0 -960 960 960\">\n",
       "    <path d=\"M120-120v-720h720v720H120Zm60-500h600v-160H180v160Zm220 220h160v-160H400v160Zm0 220h160v-160H400v160ZM180-400h160v-160H180v160Zm440 0h160v-160H620v160ZM180-180h160v-160H180v160Zm440 0h160v-160H620v160Z\"/>\n",
       "  </svg>\n",
       "    </button>\n",
       "\n",
       "  <style>\n",
       "    .colab-df-container {\n",
       "      display:flex;\n",
       "      gap: 12px;\n",
       "    }\n",
       "\n",
       "    .colab-df-convert {\n",
       "      background-color: #E8F0FE;\n",
       "      border: none;\n",
       "      border-radius: 50%;\n",
       "      cursor: pointer;\n",
       "      display: none;\n",
       "      fill: #1967D2;\n",
       "      height: 32px;\n",
       "      padding: 0 0 0 0;\n",
       "      width: 32px;\n",
       "    }\n",
       "\n",
       "    .colab-df-convert:hover {\n",
       "      background-color: #E2EBFA;\n",
       "      box-shadow: 0px 1px 2px rgba(60, 64, 67, 0.3), 0px 1px 3px 1px rgba(60, 64, 67, 0.15);\n",
       "      fill: #174EA6;\n",
       "    }\n",
       "\n",
       "    .colab-df-buttons div {\n",
       "      margin-bottom: 4px;\n",
       "    }\n",
       "\n",
       "    [theme=dark] .colab-df-convert {\n",
       "      background-color: #3B4455;\n",
       "      fill: #D2E3FC;\n",
       "    }\n",
       "\n",
       "    [theme=dark] .colab-df-convert:hover {\n",
       "      background-color: #434B5C;\n",
       "      box-shadow: 0px 1px 3px 1px rgba(0, 0, 0, 0.15);\n",
       "      filter: drop-shadow(0px 1px 2px rgba(0, 0, 0, 0.3));\n",
       "      fill: #FFFFFF;\n",
       "    }\n",
       "  </style>\n",
       "\n",
       "    <script>\n",
       "      const buttonEl =\n",
       "        document.querySelector('#df-e9e21a2b-e6e3-4949-9b6b-532487c92f23 button.colab-df-convert');\n",
       "      buttonEl.style.display =\n",
       "        google.colab.kernel.accessAllowed ? 'block' : 'none';\n",
       "\n",
       "      async function convertToInteractive(key) {\n",
       "        const element = document.querySelector('#df-e9e21a2b-e6e3-4949-9b6b-532487c92f23');\n",
       "        const dataTable =\n",
       "          await google.colab.kernel.invokeFunction('convertToInteractive',\n",
       "                                                    [key], {});\n",
       "        if (!dataTable) return;\n",
       "\n",
       "        const docLinkHtml = 'Like what you see? Visit the ' +\n",
       "          '<a target=\"_blank\" href=https://colab.research.google.com/notebooks/data_table.ipynb>data table notebook</a>'\n",
       "          + ' to learn more about interactive tables.';\n",
       "        element.innerHTML = '';\n",
       "        dataTable['output_type'] = 'display_data';\n",
       "        await google.colab.output.renderOutput(dataTable, element);\n",
       "        const docLink = document.createElement('div');\n",
       "        docLink.innerHTML = docLinkHtml;\n",
       "        element.appendChild(docLink);\n",
       "      }\n",
       "    </script>\n",
       "  </div>\n",
       "\n",
       "\n",
       "<div id=\"df-b65f8ca1-ea3f-4619-a1eb-6af5e5d49eb2\">\n",
       "  <button class=\"colab-df-quickchart\" onclick=\"quickchart('df-b65f8ca1-ea3f-4619-a1eb-6af5e5d49eb2')\"\n",
       "            title=\"Suggest charts\"\n",
       "            style=\"display:none;\">\n",
       "\n",
       "<svg xmlns=\"http://www.w3.org/2000/svg\" height=\"24px\"viewBox=\"0 0 24 24\"\n",
       "     width=\"24px\">\n",
       "    <g>\n",
       "        <path d=\"M19 3H5c-1.1 0-2 .9-2 2v14c0 1.1.9 2 2 2h14c1.1 0 2-.9 2-2V5c0-1.1-.9-2-2-2zM9 17H7v-7h2v7zm4 0h-2V7h2v10zm4 0h-2v-4h2v4z\"/>\n",
       "    </g>\n",
       "</svg>\n",
       "  </button>\n",
       "\n",
       "<style>\n",
       "  .colab-df-quickchart {\n",
       "      --bg-color: #E8F0FE;\n",
       "      --fill-color: #1967D2;\n",
       "      --hover-bg-color: #E2EBFA;\n",
       "      --hover-fill-color: #174EA6;\n",
       "      --disabled-fill-color: #AAA;\n",
       "      --disabled-bg-color: #DDD;\n",
       "  }\n",
       "\n",
       "  [theme=dark] .colab-df-quickchart {\n",
       "      --bg-color: #3B4455;\n",
       "      --fill-color: #D2E3FC;\n",
       "      --hover-bg-color: #434B5C;\n",
       "      --hover-fill-color: #FFFFFF;\n",
       "      --disabled-bg-color: #3B4455;\n",
       "      --disabled-fill-color: #666;\n",
       "  }\n",
       "\n",
       "  .colab-df-quickchart {\n",
       "    background-color: var(--bg-color);\n",
       "    border: none;\n",
       "    border-radius: 50%;\n",
       "    cursor: pointer;\n",
       "    display: none;\n",
       "    fill: var(--fill-color);\n",
       "    height: 32px;\n",
       "    padding: 0;\n",
       "    width: 32px;\n",
       "  }\n",
       "\n",
       "  .colab-df-quickchart:hover {\n",
       "    background-color: var(--hover-bg-color);\n",
       "    box-shadow: 0 1px 2px rgba(60, 64, 67, 0.3), 0 1px 3px 1px rgba(60, 64, 67, 0.15);\n",
       "    fill: var(--button-hover-fill-color);\n",
       "  }\n",
       "\n",
       "  .colab-df-quickchart-complete:disabled,\n",
       "  .colab-df-quickchart-complete:disabled:hover {\n",
       "    background-color: var(--disabled-bg-color);\n",
       "    fill: var(--disabled-fill-color);\n",
       "    box-shadow: none;\n",
       "  }\n",
       "\n",
       "  .colab-df-spinner {\n",
       "    border: 2px solid var(--fill-color);\n",
       "    border-color: transparent;\n",
       "    border-bottom-color: var(--fill-color);\n",
       "    animation:\n",
       "      spin 1s steps(1) infinite;\n",
       "  }\n",
       "\n",
       "  @keyframes spin {\n",
       "    0% {\n",
       "      border-color: transparent;\n",
       "      border-bottom-color: var(--fill-color);\n",
       "      border-left-color: var(--fill-color);\n",
       "    }\n",
       "    20% {\n",
       "      border-color: transparent;\n",
       "      border-left-color: var(--fill-color);\n",
       "      border-top-color: var(--fill-color);\n",
       "    }\n",
       "    30% {\n",
       "      border-color: transparent;\n",
       "      border-left-color: var(--fill-color);\n",
       "      border-top-color: var(--fill-color);\n",
       "      border-right-color: var(--fill-color);\n",
       "    }\n",
       "    40% {\n",
       "      border-color: transparent;\n",
       "      border-right-color: var(--fill-color);\n",
       "      border-top-color: var(--fill-color);\n",
       "    }\n",
       "    60% {\n",
       "      border-color: transparent;\n",
       "      border-right-color: var(--fill-color);\n",
       "    }\n",
       "    80% {\n",
       "      border-color: transparent;\n",
       "      border-right-color: var(--fill-color);\n",
       "      border-bottom-color: var(--fill-color);\n",
       "    }\n",
       "    90% {\n",
       "      border-color: transparent;\n",
       "      border-bottom-color: var(--fill-color);\n",
       "    }\n",
       "  }\n",
       "</style>\n",
       "\n",
       "  <script>\n",
       "    async function quickchart(key) {\n",
       "      const quickchartButtonEl =\n",
       "        document.querySelector('#' + key + ' button');\n",
       "      quickchartButtonEl.disabled = true;  // To prevent multiple clicks.\n",
       "      quickchartButtonEl.classList.add('colab-df-spinner');\n",
       "      try {\n",
       "        const charts = await google.colab.kernel.invokeFunction(\n",
       "            'suggestCharts', [key], {});\n",
       "      } catch (error) {\n",
       "        console.error('Error during call to suggestCharts:', error);\n",
       "      }\n",
       "      quickchartButtonEl.classList.remove('colab-df-spinner');\n",
       "      quickchartButtonEl.classList.add('colab-df-quickchart-complete');\n",
       "    }\n",
       "    (() => {\n",
       "      let quickchartButtonEl =\n",
       "        document.querySelector('#df-b65f8ca1-ea3f-4619-a1eb-6af5e5d49eb2 button');\n",
       "      quickchartButtonEl.style.display =\n",
       "        google.colab.kernel.accessAllowed ? 'block' : 'none';\n",
       "    })();\n",
       "  </script>\n",
       "</div>\n",
       "\n",
       "    </div>\n",
       "  </div>\n"
      ],
      "text/plain": [
       "                                            Question  \\\n",
       "0  What provisions may allow for a longer reinsta...   \n",
       "1  How is the peroid of time during which a reins...   \n",
       "2  What are the requirements for placing in force...   \n",
       "\n",
       "                                            Response Page  \\\n",
       "0  The provisions that may allow for a longer rei...   11   \n",
       "1  The period of time during which a reinstated M...   15   \n",
       "2  The requirements for placing in force any Sche...   15   \n",
       "\n",
       "                                            Good/Bad  \n",
       "0  How is the peroid of time during which a reins...  \n",
       "1  What are the requirements for placing in force...  \n",
       "2                                               good  "
      ]
     },
     "execution_count": 29,
     "metadata": {},
     "output_type": "execute_result"
    }
   ],
   "source": [
    "testing_pipeline(questions)"
   ]
  },
  {
   "cell_type": "markdown",
   "metadata": {
    "id": "r4oUtixh-r5h"
   },
   "source": [
    "Part 3: Next steps\n",
    "\n",
    "3.1 Building a custom promt template"
   ]
  },
  {
   "cell_type": "code",
   "execution_count": null,
   "metadata": {
    "id": "iMYL__jP-2zK"
   },
   "outputs": [],
   "source": [
    "response=query_engine.query(\"What provisions may allow for a longer reinstatement period for an approved leave of absence taken in accordance with the Uniformed Services Employment and Reemployment Rights Act of 1994 (USERRA)?\")"
   ]
  },
  {
   "cell_type": "code",
   "execution_count": null,
   "metadata": {
    "colab": {
     "base_uri": "https://localhost:8080/",
     "height": 53
    },
    "id": "35M3CBSwYnGf",
    "outputId": "f21b39b5-d4cc-4e63-cd15-1ef3bf7525b8"
   },
   "outputs": [
    {
     "data": {
      "application/vnd.google.colaboratory.intrinsic+json": {
       "type": "string"
      },
      "text/plain": [
       "'The provisions that may allow for a longer reinstatement period for an approved leave of absence taken in accordance with the Uniformed Services Employment and Reemployment Rights Act of 1994 (USERRA) could include the option to revive the lapsed policy within a specified Revival Period, which typically lasts for three years from the date of the first unpaid premium.'"
      ]
     },
     "execution_count": 31,
     "metadata": {},
     "output_type": "execute_result"
    }
   ],
   "source": [
    "response.response"
   ]
  },
  {
   "cell_type": "code",
   "execution_count": null,
   "metadata": {
    "colab": {
     "base_uri": "https://localhost:8080/"
    },
    "id": "wrwUkVCjYnUJ",
    "outputId": "499a09ff-81c7-4016-861c-9650418248b7"
   },
   "outputs": [
    {
     "data": {
      "text/plain": [
       "[NodeWithScore(node=TextNode(id_='b107ad26-7f4a-4449-90a0-8fb47ac0edc8', embedding=None, metadata={'page_label': '11', 'file_name': 'HDFC-Life-Sampoorna-Jeevan-101N158V04-Policy-Document (1).pdf', 'file_path': '/content/drive/MyDrive/Policy+Documents (3)/HDFC-Life-Sampoorna-Jeevan-101N158V04-Policy-Document (1).pdf', 'file_type': 'application/pdf', 'file_size': 1990500, 'creation_date': '2024-09-21', 'last_modified_date': '2024-09-21'}, excluded_embed_metadata_keys=['file_name', 'file_type', 'file_size', 'creation_date', 'last_modified_date', 'last_accessed_date'], excluded_llm_metadata_keys=['file_name', 'file_type', 'file_size', 'creation_date', 'last_modified_date', 'last_accessed_date'], relationships={<NodeRelationship.SOURCE: '1'>: RelatedNodeInfo(node_id='3cae4910-ffc1-43f2-9585-0600d598012e', node_type=<ObjectType.DOCUMENT: '4'>, metadata={'page_label': '11', 'file_name': 'HDFC-Life-Sampoorna-Jeevan-101N158V04-Policy-Document (1).pdf', 'file_path': '/content/drive/MyDrive/Policy+Documents (3)/HDFC-Life-Sampoorna-Jeevan-101N158V04-Policy-Document (1).pdf', 'file_type': 'application/pdf', 'file_size': 1990500, 'creation_date': '2024-09-21', 'last_modified_date': '2024-09-21'}, hash='baf4ad9a1104323e114b012637bbfdddf4b156df80a66aa99021d54f42757c04'), <NodeRelationship.PREVIOUS: '2'>: RelatedNodeInfo(node_id='858ea4d6-c8e0-48df-a8de-b4a73e480480', node_type=<ObjectType.TEXT: '1'>, metadata={'page_label': '11', 'file_name': 'HDFC-Life-Sampoorna-Jeevan-101N158V04-Policy-Document (1).pdf', 'file_path': '/content/drive/MyDrive/Policy+Documents (3)/HDFC-Life-Sampoorna-Jeevan-101N158V04-Policy-Document (1).pdf', 'file_type': 'application/pdf', 'file_size': 1990500, 'creation_date': '2024-09-21', 'last_modified_date': '2024-09-21'}, hash='1342be1a27f1812798f3e3f18065b94bb1f015227f39ef61814570497ac61fce')}, text='D.2.2.  Notwithstanding anything to the contrary contained elsewhere in this Policy, the Company reserves the right to revive  \\nthe lapsed Policy either on its original terms and conditions or on such other or modified terms and conditions as the \\nCompany may specify or to reject the Revival . If needed the Company may refer it to its medical examiner in decid ing \\non Revival  of lapse d Policy. Subject to the provisions of Clauses D.2.1 above, the Revival  shall come into effect on the \\ndate when the Company specifically communicates it in writing to the Policyholder.  \\n \\nD.2.3  If the Policy is not revived for full Benefits before the Policy  Maturity Date but within five years from the due date for \\npayment of the first unpaid Premium and if the Policy has not acquired Guaranteed Surrender Value, then the Policy \\nwill terminate.  \\n \\nD.3.  Non-Forfeiture options : PART D  \\nPolicy Servicing Related Aspects', mimetype='text/plain', start_char_idx=3529, end_char_idx=4449, text_template='{metadata_str}\\n\\n{content}', metadata_template='{key}: {value}', metadata_seperator='\\n'), score=0.7720022811789837),\n",
       " NodeWithScore(node=TextNode(id_='ceafe426-b428-4297-8bb0-45c72cd50edf', embedding=None, metadata={'page_label': '11', 'file_name': 'HDFC-Life-Smart-Pension-Plan-Policy-Document-Online.pdf', 'file_path': '/content/drive/MyDrive/Policy+Documents (3)/HDFC-Life-Smart-Pension-Plan-Policy-Document-Online.pdf', 'file_type': 'application/pdf', 'file_size': 983547, 'creation_date': '2024-09-21', 'last_modified_date': '2024-09-21'}, excluded_embed_metadata_keys=['file_name', 'file_type', 'file_size', 'creation_date', 'last_modified_date', 'last_accessed_date'], excluded_llm_metadata_keys=['file_name', 'file_type', 'file_size', 'creation_date', 'last_modified_date', 'last_accessed_date'], relationships={<NodeRelationship.SOURCE: '1'>: RelatedNodeInfo(node_id='3e0afb20-edd6-42e7-9ea8-c52f80821088', node_type=<ObjectType.DOCUMENT: '4'>, metadata={'page_label': '11', 'file_name': 'HDFC-Life-Smart-Pension-Plan-Policy-Document-Online.pdf', 'file_path': '/content/drive/MyDrive/Policy+Documents (3)/HDFC-Life-Smart-Pension-Plan-Policy-Document-Online.pdf', 'file_type': 'application/pdf', 'file_size': 983547, 'creation_date': '2024-09-21', 'last_modified_date': '2024-09-21'}, hash='1e9f26594dedd5ba355f31cc2008ccacdd058f4fd6f06bc0a6063e8cface8425'), <NodeRelationship.NEXT: '3'>: RelatedNodeInfo(node_id='4e234628-c502-43f4-99e8-b835f2d4afbb', node_type=<ObjectType.TEXT: '1'>, metadata={}, hash='3ea849f4e6a27b3361b3f0bb7a02acd59508453a832ee030095b723ea4368bfd')}, text='HDFC  Life Smart Pension Plan 101L164V02  – Terms and Conditions  (Direct & \\nOnline Sales)  \\n(A Unit Linked Non -Participating Individual Pension Plan)   \\n  Page 11 of 37  \\n \\nPART D  \\nPOLICY SERVICING RELATED ASPECTS  \\n \\nThe Policyholder shall have a period of 15 days from the date of receipt of the Policy document to review the terms \\nand conditions of this Policy and if the Policyholder disagrees with the said terms and conditions, the Policyholder shall \\nhave the option t o return the Policy to the Company for cancellation, stating the reasons for His objections. Upon such \\nFree-Look cancellation , the Company shall return the Premium paid subject to deduction of a proportionate risk \\nPremium for the period of insurance cover and medical examination fees (if any) in addition to the stamp duty charges. \\nAll Benefits and rights under this Policy shall immediately stand terminated on the cancellation of the Policy.  \\n \\nThe Policyholder shall have a period of 30 days if the Policy is s ourced through Distance Marketing# from the date of \\nreceipt of the Policy document to review the terms and conditions of this Policy and if the Policyholder disagrees with \\nthe said terms and conditions, the Policyholder shall have the option to return the Policy to the Company for \\ncancellation, stating the reasons for His objections. Upon such Free -Look cancellation , the Company shall return the \\nPremium paid subject to deduction of a proportionate risk Premium for the period of insurance cover and medical \\nexamination fees (if any) in addition to the stamp duty charges. All Benefits and rights under this Policy shall \\nimmediately stand terminated on the cancellation of the Policy.  \\n# Distance Marketing includes every activity of solicitation (including lead gen eration) and sale of insurance products \\nthrough the following modes: (i) voice mode, which includes telephone -calling (ii) short messaging service (SMS) (iii) \\nelectronic mode which includes e -mail, internet and interactive television (DTH) (iv) physical mo de which includes \\ndirect postal mail and newspaper and magazine inserts and (v) solicitation through any means of comm unication other \\nthan in person.  \\nD.2 Discontinuance Provisions:  It is the state of the Policy that could arise on account of Surrender of the Policy \\nor non -payment of the contractual premium.  \\n \\nD.2.1. Discontinuance of the Policy during Lock -in Period:  \\n \\nD.2.1.1.)  For other than single P remium policies,  upon expiry of the Grace Period, in case of D iscontinuanc e of \\nPolicy due to non -payment of Premium, the Fund V alue after deducting the applicabl e Discontinuance charges, shall  \\nbe credited to the Discontinued Policy F und and the risk cover shall cease.  \\n \\nD.2.1.2.)  Such discontinuance charges shall not exceed the charges as stipulated in Clause E.6.5.  All such discontinue d \\npolicies shall be provided a Revival P eriod of three years from date of first  unpaid P remium. On such Discontinuance, \\nthe Company shall communicate th e status of the P olicy, within three  months of the first unpaid Premium, to the \\nPolicyholder and provide the option to revive the P olicy within the  Revival P eriod of three years.  \\n \\nD.2.1.2.1.)  In case the P olicyholder opts to revive but does not revive the Policy during the Revival P eriod, the  \\nproceeds of the Discontinued Policy F und shall be paid * to the P olicyholder a t the end of the Revival P eriod or Lock -in \\nPeriod whi chever is later. In respect of Revival P eriod ending a fter Lock -in Period, the P olicy will remain in  Discontinued \\nPolicy Fund  till the end of Revival P eriod.  The Fund management charges of  Discontinued Policy F und will be applicable \\nduring this period and no other charges will be applied.  \\n \\nD.2.1.2.2.)  In case the P olicyholder does not exercis e the option as set out above, the  Policy shall continue without \\nany ris k cover and the P olicy fun d shall remain invested in the D iscontinu ed Policy Fund.', mimetype='text/plain', start_char_idx=0, end_char_idx=3991, text_template='{metadata_str}\\n\\n{content}', metadata_template='{key}: {value}', metadata_seperator='\\n'), score=0.7669676849824166)]"
      ]
     },
     "execution_count": 32,
     "metadata": {},
     "output_type": "execute_result"
    }
   ],
   "source": [
    "# response source nodes\n",
    "\n",
    "response.source_nodes"
   ]
  },
  {
   "cell_type": "code",
   "execution_count": null,
   "metadata": {
    "colab": {
     "base_uri": "https://localhost:8080/"
    },
    "id": "KLUWsWzhZ6y7",
    "outputId": "e337003b-b1d8-498b-bfd1-3a16abaccee1"
   },
   "outputs": [
    {
     "data": {
      "text/plain": [
       "NodeWithScore(node=TextNode(id_='b107ad26-7f4a-4449-90a0-8fb47ac0edc8', embedding=None, metadata={'page_label': '11', 'file_name': 'HDFC-Life-Sampoorna-Jeevan-101N158V04-Policy-Document (1).pdf', 'file_path': '/content/drive/MyDrive/Policy+Documents (3)/HDFC-Life-Sampoorna-Jeevan-101N158V04-Policy-Document (1).pdf', 'file_type': 'application/pdf', 'file_size': 1990500, 'creation_date': '2024-09-21', 'last_modified_date': '2024-09-21'}, excluded_embed_metadata_keys=['file_name', 'file_type', 'file_size', 'creation_date', 'last_modified_date', 'last_accessed_date'], excluded_llm_metadata_keys=['file_name', 'file_type', 'file_size', 'creation_date', 'last_modified_date', 'last_accessed_date'], relationships={<NodeRelationship.SOURCE: '1'>: RelatedNodeInfo(node_id='3cae4910-ffc1-43f2-9585-0600d598012e', node_type=<ObjectType.DOCUMENT: '4'>, metadata={'page_label': '11', 'file_name': 'HDFC-Life-Sampoorna-Jeevan-101N158V04-Policy-Document (1).pdf', 'file_path': '/content/drive/MyDrive/Policy+Documents (3)/HDFC-Life-Sampoorna-Jeevan-101N158V04-Policy-Document (1).pdf', 'file_type': 'application/pdf', 'file_size': 1990500, 'creation_date': '2024-09-21', 'last_modified_date': '2024-09-21'}, hash='baf4ad9a1104323e114b012637bbfdddf4b156df80a66aa99021d54f42757c04'), <NodeRelationship.PREVIOUS: '2'>: RelatedNodeInfo(node_id='858ea4d6-c8e0-48df-a8de-b4a73e480480', node_type=<ObjectType.TEXT: '1'>, metadata={'page_label': '11', 'file_name': 'HDFC-Life-Sampoorna-Jeevan-101N158V04-Policy-Document (1).pdf', 'file_path': '/content/drive/MyDrive/Policy+Documents (3)/HDFC-Life-Sampoorna-Jeevan-101N158V04-Policy-Document (1).pdf', 'file_type': 'application/pdf', 'file_size': 1990500, 'creation_date': '2024-09-21', 'last_modified_date': '2024-09-21'}, hash='1342be1a27f1812798f3e3f18065b94bb1f015227f39ef61814570497ac61fce')}, text='D.2.2.  Notwithstanding anything to the contrary contained elsewhere in this Policy, the Company reserves the right to revive  \\nthe lapsed Policy either on its original terms and conditions or on such other or modified terms and conditions as the \\nCompany may specify or to reject the Revival . If needed the Company may refer it to its medical examiner in decid ing \\non Revival  of lapse d Policy. Subject to the provisions of Clauses D.2.1 above, the Revival  shall come into effect on the \\ndate when the Company specifically communicates it in writing to the Policyholder.  \\n \\nD.2.3  If the Policy is not revived for full Benefits before the Policy  Maturity Date but within five years from the due date for \\npayment of the first unpaid Premium and if the Policy has not acquired Guaranteed Surrender Value, then the Policy \\nwill terminate.  \\n \\nD.3.  Non-Forfeiture options : PART D  \\nPolicy Servicing Related Aspects', mimetype='text/plain', start_char_idx=3529, end_char_idx=4449, text_template='{metadata_str}\\n\\n{content}', metadata_template='{key}: {value}', metadata_seperator='\\n'), score=0.7720022811789837)"
      ]
     },
     "execution_count": 33,
     "metadata": {},
     "output_type": "execute_result"
    }
   ],
   "source": [
    "response.source_nodes[0]"
   ]
  },
  {
   "cell_type": "code",
   "execution_count": null,
   "metadata": {
    "colab": {
     "base_uri": "https://localhost:8080/",
     "height": 105
    },
    "id": "mQBMeop5aAgl",
    "outputId": "104d21a9-84d1-4419-d769-b884278e3b74"
   },
   "outputs": [
    {
     "data": {
      "application/vnd.google.colaboratory.intrinsic+json": {
       "type": "string"
      },
      "text/plain": [
       "'HDFC  Life Smart Pension Plan 101L164V02  – Terms and Conditions  (Direct & \\nOnline Sales)  \\n(A Unit Linked Non -Participating Individual Pension Plan)   \\n  Page 11 of 37  \\n \\nPART D  \\nPOLICY SERVICING RELATED ASPECTS  \\n \\nThe Policyholder shall have a period of 15 days from the date of receipt of the Policy document to review the terms \\nand conditions of this Policy and if the Policyholder disagrees with the said terms and conditions, the Policyholder shall \\nhave the option t o return the Policy to the Company for cancellation, stating the reasons for His objections. Upon such \\nFree-Look cancellation , the Company shall return the Premium paid subject to deduction of a proportionate risk \\nPremium for the period of insurance cover and medical examination fees (if any) in addition to the stamp duty charges. \\nAll Benefits and rights under this Policy shall immediately stand terminated on the cancellation of the Policy.  \\n \\nThe Policyholder shall have a period of 30 days if the Policy is s ourced through Distance Marketing# from the date of \\nreceipt of the Policy document to review the terms and conditions of this Policy and if the Policyholder disagrees with \\nthe said terms and conditions, the Policyholder shall have the option to return the Policy to the Company for \\ncancellation, stating the reasons for His objections. Upon such Free -Look cancellation , the Company shall return the \\nPremium paid subject to deduction of a proportionate risk Premium for the period of insurance cover and medical \\nexamination fees (if any) in addition to the stamp duty charges. All Benefits and rights under this Policy shall \\nimmediately stand terminated on the cancellation of the Policy.  \\n# Distance Marketing includes every activity of solicitation (including lead gen eration) and sale of insurance products \\nthrough the following modes: (i) voice mode, which includes telephone -calling (ii) short messaging service (SMS) (iii) \\nelectronic mode which includes e -mail, internet and interactive television (DTH) (iv) physical mo de which includes \\ndirect postal mail and newspaper and magazine inserts and (v) solicitation through any means of comm unication other \\nthan in person.  \\nD.2 Discontinuance Provisions:  It is the state of the Policy that could arise on account of Surrender of the Policy \\nor non -payment of the contractual premium.  \\n \\nD.2.1. Discontinuance of the Policy during Lock -in Period:  \\n \\nD.2.1.1.)  For other than single P remium policies,  upon expiry of the Grace Period, in case of D iscontinuanc e of \\nPolicy due to non -payment of Premium, the Fund V alue after deducting the applicabl e Discontinuance charges, shall  \\nbe credited to the Discontinued Policy F und and the risk cover shall cease.  \\n \\nD.2.1.2.)  Such discontinuance charges shall not exceed the charges as stipulated in Clause E.6.5.  All such discontinue d \\npolicies shall be provided a Revival P eriod of three years from date of first  unpaid P remium. On such Discontinuance, \\nthe Company shall communicate th e status of the P olicy, within three  months of the first unpaid Premium, to the \\nPolicyholder and provide the option to revive the P olicy within the  Revival P eriod of three years.  \\n \\nD.2.1.2.1.)  In case the P olicyholder opts to revive but does not revive the Policy during the Revival P eriod, the  \\nproceeds of the Discontinued Policy F und shall be paid * to the P olicyholder a t the end of the Revival P eriod or Lock -in \\nPeriod whi chever is later. In respect of Revival P eriod ending a fter Lock -in Period, the P olicy will remain in  Discontinued \\nPolicy Fund  till the end of Revival P eriod.  The Fund management charges of  Discontinued Policy F und will be applicable \\nduring this period and no other charges will be applied.  \\n \\nD.2.1.2.2.)  In case the P olicyholder does not exercis e the option as set out above, the  Policy shall continue without \\nany ris k cover and the P olicy fun d shall remain invested in the D iscontinu ed Policy Fund.'"
      ]
     },
     "execution_count": 34,
     "metadata": {},
     "output_type": "execute_result"
    }
   ],
   "source": [
    "response.source_nodes[1].node.text"
   ]
  },
  {
   "cell_type": "code",
   "execution_count": null,
   "metadata": {
    "colab": {
     "base_uri": "https://localhost:8080/",
     "height": 105
    },
    "id": "v29iqGYEaHjl",
    "outputId": "0d254e78-fbc8-427a-90eb-f7e3915ccf9b"
   },
   "outputs": [
    {
     "data": {
      "application/vnd.google.colaboratory.intrinsic+json": {
       "type": "string"
      },
      "text/plain": [
       "'D.2.2.  Notwithstanding anything to the contrary contained elsewhere in this Policy, the Company reserves the right to revive  \\nthe lapsed Policy either on its original terms and conditions or on such other or modified terms and conditions as the \\nCompany may specify or to reject the Revival . If needed the Company may refer it to its medical examiner in decid ing \\non Revival  of lapse d Policy. Subject to the provisions of Clauses D.2.1 above, the Revival  shall come into effect on the \\ndate when the Company specifically communicates it in writing to the Policyholder.  \\n \\nD.2.3  If the Policy is not revived for full Benefits before the Policy  Maturity Date but within five years from the due date for \\npayment of the first unpaid Premium and if the Policy has not acquired Guaranteed Surrender Value, then the Policy \\nwill terminate.  \\n \\nD.3.  Non-Forfeiture options : PART D  \\nPolicy Servicing Related Aspects Check further at HDFC-Life-Sampoorna-Jeevan-101N158V04-Policy-Document (1).pdf Page No 11HDFC  Life Smart Pension Plan 101L164V02  – Terms and Conditions  (Direct & \\nOnline Sales)  \\n(A Unit Linked Non -Participating Individual Pension Plan)   \\n  Page 11 of 37  \\n \\nPART D  \\nPOLICY SERVICING RELATED ASPECTS  \\n \\nThe Policyholder shall have a period of 15 days from the date of receipt of the Policy document to review the terms \\nand conditions of this Policy and if the Policyholder disagrees with the said terms and conditions, the Policyholder shall \\nhave the option t o return the Policy to the Company for cancellation, stating the reasons for His objections. Upon such \\nFree-Look cancellation , the Company shall return the Premium paid subject to deduction of a proportionate risk \\nPremium for the period of insurance cover and medical examination fees (if any) in addition to the stamp duty charges. \\nAll Benefits and rights under this Policy shall immediately stand terminated on the cancellation of the Policy.  \\n \\nThe Policyholder shall have a period of 30 days if the Policy is s ourced through Distance Marketing# from the date of \\nreceipt of the Policy document to review the terms and conditions of this Policy and if the Policyholder disagrees with \\nthe said terms and conditions, the Policyholder shall have the option to return the Policy to the Company for \\ncancellation, stating the reasons for His objections. Upon such Free -Look cancellation , the Company shall return the \\nPremium paid subject to deduction of a proportionate risk Premium for the period of insurance cover and medical \\nexamination fees (if any) in addition to the stamp duty charges. All Benefits and rights under this Policy shall \\nimmediately stand terminated on the cancellation of the Policy.  \\n# Distance Marketing includes every activity of solicitation (including lead gen eration) and sale of insurance products \\nthrough the following modes: (i) voice mode, which includes telephone -calling (ii) short messaging service (SMS) (iii) \\nelectronic mode which includes e -mail, internet and interactive television (DTH) (iv) physical mo de which includes \\ndirect postal mail and newspaper and magazine inserts and (v) solicitation through any means of comm unication other \\nthan in person.  \\nD.2 Discontinuance Provisions:  It is the state of the Policy that could arise on account of Surrender of the Policy \\nor non -payment of the contractual premium.  \\n \\nD.2.1. Discontinuance of the Policy during Lock -in Period:  \\n \\nD.2.1.1.)  For other than single P remium policies,  upon expiry of the Grace Period, in case of D iscontinuanc e of \\nPolicy due to non -payment of Premium, the Fund V alue after deducting the applicabl e Discontinuance charges, shall  \\nbe credited to the Discontinued Policy F und and the risk cover shall cease.  \\n \\nD.2.1.2.)  Such discontinuance charges shall not exceed the charges as stipulated in Clause E.6.5.  All such discontinue d \\npolicies shall be provided a Revival P eriod of three years from date of first  unpaid P remium. On such Discontinuance, \\nthe Company shall communicate th e status of the P olicy, within three  months of the first unpaid Premium, to the \\nPolicyholder and provide the option to revive the P olicy within the  Revival P eriod of three years.  \\n \\nD.2.1.2.1.)  In case the P olicyholder opts to revive but does not revive the Policy during the Revival P eriod, the  \\nproceeds of the Discontinued Policy F und shall be paid * to the P olicyholder a t the end of the Revival P eriod or Lock -in \\nPeriod whi chever is later. In respect of Revival P eriod ending a fter Lock -in Period, the P olicy will remain in  Discontinued \\nPolicy Fund  till the end of Revival P eriod.  The Fund management charges of  Discontinued Policy F und will be applicable \\nduring this period and no other charges will be applied.  \\n \\nD.2.1.2.2.)  In case the P olicyholder does not exercis e the option as set out above, the  Policy shall continue without \\nany ris k cover and the P olicy fun d shall remain invested in the D iscontinu ed Policy Fund. Check further at HDFC-Life-Smart-Pension-Plan-Policy-Document-Online.pdf Page No 11'"
      ]
     },
     "execution_count": 35,
     "metadata": {},
     "output_type": "execute_result"
    }
   ],
   "source": [
    "reference_0 = \" Check further at \" + response.source_nodes[0].node.metadata['file_name'] + \" Page No \" + response.source_nodes[0].node.metadata['page_label']\n",
    "reference_1 = \" Check further at \" + response.source_nodes[1].node.metadata['file_name'] + \" Page No \" + response.source_nodes[1].node.metadata['page_label']\n",
    "retrieved = response.source_nodes[0].node.text + reference_0 + response.source_nodes[1].node.text + reference_1\n",
    "retrieved"
   ]
  },
  {
   "cell_type": "code",
   "execution_count": null,
   "metadata": {
    "colab": {
     "base_uri": "https://localhost:8080/"
    },
    "id": "XCmAVVISaU07",
    "outputId": "98f07f10-c9de-4bdc-cdf1-15cccadc0a47"
   },
   "outputs": [
    {
     "data": {
      "text/plain": [
       "[{'role': 'system', 'content': 'You are AI assistent to user.'},\n",
       " {'role': 'user',\n",
       "  'content': \"What provisions may allow for a longer reinstatement period for an approved leave of absence taken\\n              in accordance with the Uniformed Services Employment and Reemployment Rights Act of 1994 (USERRA)? Check in 'D.2.2.  Notwithstanding anything to the contrary contained elsewhere in this Policy, the Company reserves the right to revive  \\nthe lapsed Policy either on its original terms and conditions or on such other or modified terms and conditions as the \\nCompany may specify or to reject the Revival . If needed the Company may refer it to its medical examiner in decid ing \\non Revival  of lapse d Policy. Subject to the provisions of Clauses D.2.1 above, the Revival  shall come into effect on the \\ndate when the Company specifically communicates it in writing to the Policyholder.  \\n \\nD.2.3  If the Policy is not revived for full Benefits before the Policy  Maturity Date but within five years from the due date for \\npayment of the first unpaid Premium and if the Policy has not acquired Guaranteed Surrender Value, then the Policy \\nwill terminate.  \\n \\nD.3.  Non-Forfeiture options : PART D  \\nPolicy Servicing Related Aspects Check further at HDFC-Life-Sampoorna-Jeevan-101N158V04-Policy-Document (1).pdf Page No 11HDFC  Life Smart Pension Plan 101L164V02  – Terms and Conditions  (Direct & \\nOnline Sales)  \\n(A Unit Linked Non -Participating Individual Pension Plan)   \\n  Page 11 of 37  \\n \\nPART D  \\nPOLICY SERVICING RELATED ASPECTS  \\n \\nThe Policyholder shall have a period of 15 days from the date of receipt of the Policy document to review the terms \\nand conditions of this Policy and if the Policyholder disagrees with the said terms and conditions, the Policyholder shall \\nhave the option t o return the Policy to the Company for cancellation, stating the reasons for His objections. Upon such \\nFree-Look cancellation , the Company shall return the Premium paid subject to deduction of a proportionate risk \\nPremium for the period of insurance cover and medical examination fees (if any) in addition to the stamp duty charges. \\nAll Benefits and rights under this Policy shall immediately stand terminated on the cancellation of the Policy.  \\n \\nThe Policyholder shall have a period of 30 days if the Policy is s ourced through Distance Marketing# from the date of \\nreceipt of the Policy document to review the terms and conditions of this Policy and if the Policyholder disagrees with \\nthe said terms and conditions, the Policyholder shall have the option to return the Policy to the Company for \\ncancellation, stating the reasons for His objections. Upon such Free -Look cancellation , the Company shall return the \\nPremium paid subject to deduction of a proportionate risk Premium for the period of insurance cover and medical \\nexamination fees (if any) in addition to the stamp duty charges. All Benefits and rights under this Policy shall \\nimmediately stand terminated on the cancellation of the Policy.  \\n# Distance Marketing includes every activity of solicitation (including lead gen eration) and sale of insurance products \\nthrough the following modes: (i) voice mode, which includes telephone -calling (ii) short messaging service (SMS) (iii) \\nelectronic mode which includes e -mail, internet and interactive television (DTH) (iv) physical mo de which includes \\ndirect postal mail and newspaper and magazine inserts and (v) solicitation through any means of comm unication other \\nthan in person.  \\nD.2 Discontinuance Provisions:  It is the state of the Policy that could arise on account of Surrender of the Policy \\nor non -payment of the contractual premium.  \\n \\nD.2.1. Discontinuance of the Policy during Lock -in Period:  \\n \\nD.2.1.1.)  For other than single P remium policies,  upon expiry of the Grace Period, in case of D iscontinuanc e of \\nPolicy due to non -payment of Premium, the Fund V alue after deducting the applicabl e Discontinuance charges, shall  \\nbe credited to the Discontinued Policy F und and the risk cover shall cease.  \\n \\nD.2.1.2.)  Such discontinuance charges shall not exceed the charges as stipulated in Clause E.6.5.  All such discontinue d \\npolicies shall be provided a Revival P eriod of three years from date of first  unpaid P remium. On such Discontinuance, \\nthe Company shall communicate th e status of the P olicy, within three  months of the first unpaid Premium, to the \\nPolicyholder and provide the option to revive the P olicy within the  Revival P eriod of three years.  \\n \\nD.2.1.2.1.)  In case the P olicyholder opts to revive but does not revive the Policy during the Revival P eriod, the  \\nproceeds of the Discontinued Policy F und shall be paid * to the P olicyholder a t the end of the Revival P eriod or Lock -in \\nPeriod whi chever is later. In respect of Revival P eriod ending a fter Lock -in Period, the P olicy will remain in  Discontinued \\nPolicy Fund  till the end of Revival P eriod.  The Fund management charges of  Discontinued Policy F und will be applicable \\nduring this period and no other charges will be applied.  \\n \\nD.2.1.2.2.)  In case the P olicyholder does not exercis e the option as set out above, the  Policy shall continue without \\nany ris k cover and the P olicy fun d shall remain invested in the D iscontinu ed Policy Fund. Check further at HDFC-Life-Smart-Pension-Plan-Policy-Document-Online.pdf Page No 11'\\n              \"}]"
      ]
     },
     "execution_count": 36,
     "metadata": {},
     "output_type": "execute_result"
    }
   ],
   "source": [
    "messages=[\n",
    "          {\n",
    "              \"role\":\"system\",\n",
    "              \"content\":\"You are AI assistent to user.\"\n",
    "          },\n",
    "          {\n",
    "              \"role\":\"user\",\n",
    "              \"content\": f\"\"\"What provisions may allow for a longer reinstatement period for an approved leave of absence taken\n",
    "              in accordance with the Uniformed Services Employment and Reemployment Rights Act of 1994 (USERRA)? Check in '{retrieved}'\n",
    "              \"\"\"\n",
    "          }\n",
    "        ]\n",
    "messages"
   ]
  },
  {
   "cell_type": "code",
   "execution_count": null,
   "metadata": {
    "colab": {
     "base_uri": "https://localhost:8080/",
     "height": 105
    },
    "id": "S6oPlsL0bTR_",
    "outputId": "a3b6bf04-5edc-4bc8-ef07-9ef3dcc36f1b"
   },
   "outputs": [
    {
     "data": {
      "application/vnd.google.colaboratory.intrinsic+json": {
       "type": "string"
      },
      "text/plain": [
       "\"In the context of an approved leave of absence taken in accordance with the Uniformed Services Employment and Reemployment Rights Act of 1994 (USERRA), the provisions that may allow for a longer reinstatement period include the following:\\n\\n1. Notwithstanding anything to the contrary contained elsewhere in the policy, the company reserves the right to revive a lapsed policy on its original terms and conditions or on modified terms as specified by the company. The decision on revival may involve consultation with the company's medical examiner.\\n\\n2. If the policy is not revived for full benefits before the policy maturity date but within five years from the due date for payment of the first unpaid premium and if the policy has not acquired guaranteed surrender value, then the policy will terminate.\\n\\n3. Non-forfeiture options may also provide flexibility in reinstating the policy, with specific conditions outlined in the policy servicing-related aspects.\\n\\nThese provisions offer a framework for extending the reinstatement period for a leave of absence taken under USERRA, allowing for potential flexibility and options for policyholders to reinstate their policies after a period of absence.\""
      ]
     },
     "execution_count": 37,
     "metadata": {},
     "output_type": "execute_result"
    }
   ],
   "source": [
    "response2=openai.chat.completions.create(\n",
    "    model=\"gpt-3.5-turbo\",\n",
    "    messages=messages\n",
    ")\n",
    "response2.choices[0].message.content"
   ]
  },
  {
   "cell_type": "markdown",
   "metadata": {
    "id": "p3LicHvLc1F8"
   },
   "source": [
    "3.2 Recommendations on How to improve further\n",
    "\n",
    "\n",
    "\n",
    "*   Based on testing pipeline's feedback, develop a strategy how to improve it further\n",
    "\n",
    "\n",
    "*   This can be done thorough building a better/cleaner dataset or utilizing better data pre-processing techniques\n",
    "   \n",
    "\n"
   ]
  },
  {
   "cell_type": "markdown",
   "metadata": {
    "id": "fD-IoGFbd7WH"
   },
   "source": [
    "Suggestion 1: Using customized nodes and LLMs\n",
    "\n",
    "This can be used if responses are not accurate or is not being summarized very well"
   ]
  },
  {
   "cell_type": "code",
   "execution_count": null,
   "metadata": {
    "id": "6bE4FRSHeB0U"
   },
   "outputs": [],
   "source": [
    "#import OpenAIEmbedding\n",
    "from llama_index.embeddings.openai import OpenAIEmbedding\n",
    "#import SentenceSplitter\n",
    "from llama_index.core.node_parser import SentenceSplitter\n",
    "#import OpenAI\n",
    "from llama_index.llms.openai import OpenAI\n",
    "#import Settings\n",
    "from llama_index.core import Settings\n",
    "\n",
    "#Initialize the openAI model\n",
    "Settings.lm=OpenAI(model=\"gpt-3.5-turbo\", temperature=0, max_tokens=256)\n",
    "\n",
    "#Initialize the embedding model\n",
    "Settings.embed_model=OpenAIEmbedding()\n",
    "\n",
    "#Initialize the node_parser with custom node settings\n",
    "Settings.node_parser=SentenceSplitter(chunk_size=512, chunk_overlap=20)\n",
    "\n",
    "# Initialize the num_output and context window\n",
    "Settings.num_output=512\n",
    "Settings.context_window=3900\n",
    "\n",
    "#Create a VectorStoreIndex from a list of documents using the service context\n",
    "index=VectorStoreIndex.from_documents(documents)\n",
    "\n",
    "# Initialize a query engine for the index with a specified similiarity with top-k values\n",
    "query_engine=index.as_query_engine(similarity_top_k=3)\n"
   ]
  },
  {
   "cell_type": "code",
   "execution_count": null,
   "metadata": {
    "id": "tigowKhlg-EB"
   },
   "outputs": [],
   "source": [
    "#Query the engine with specific question\n",
    "\n",
    "response=query_engine.query(\"\"\"What provisions may allow for a longer reinstatement period for an approved leave of absence taken\n",
    "              in accordance with the Uniformed Services Employment and Reemployment Rights Act of 1994 (USERRA)?\"\"\")"
   ]
  },
  {
   "cell_type": "code",
   "execution_count": null,
   "metadata": {
    "colab": {
     "base_uri": "https://localhost:8080/",
     "height": 53
    },
    "id": "lUk4LLSrhRmZ",
    "outputId": "3509430a-6e09-486a-cf4a-8951c082af36"
   },
   "outputs": [
    {
     "data": {
      "application/vnd.google.colaboratory.intrinsic+json": {
       "type": "string"
      },
      "text/plain": [
       "'The provisions that may allow for a longer reinstatement period for an approved leave of absence taken in accordance with the Uniformed Services Employment and Reemployment Rights Act of 1994 (USERRA) are those that specify the conditions under which a lapsed policy can be revived.'"
      ]
     },
     "execution_count": 40,
     "metadata": {},
     "output_type": "execute_result"
    }
   ],
   "source": [
    "response.response"
   ]
  }
 ],
 "metadata": {
  "colab": {
   "provenance": [],
   "toc_visible": true
  },
  "kernelspec": {
   "display_name": "Python 3 (ipykernel)",
   "language": "python",
   "name": "python3"
  },
  "language_info": {
   "codemirror_mode": {
    "name": "ipython",
    "version": 3
   },
   "file_extension": ".py",
   "mimetype": "text/x-python",
   "name": "python",
   "nbconvert_exporter": "python",
   "pygments_lexer": "ipython3",
   "version": "3.11.7"
  }
 },
 "nbformat": 4,
 "nbformat_minor": 4
}
